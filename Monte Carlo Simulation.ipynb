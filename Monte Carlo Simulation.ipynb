{
 "cells": [
  {
   "cell_type": "code",
   "execution_count": 85,
   "metadata": {},
   "outputs": [],
   "source": [
    "import random\n",
    "import matplotlib.pyplot as plt\n",
    "import numpy as np\n",
    "from trueskill import Rating, quality_1vs1, rate_1vs1\n",
    "%matplotlib inline\n",
    "\n",
    "def scoreboard(population):\n",
    "    for v in population.values():\n",
    "        print(v.name, v.history)\n",
    "        \n",
    "def resign(user):\n",
    "    if user.losing_streak == 0:\n",
    "        if np.random.uniform() > 0.95:  # 95% chance of staying\n",
    "            return True\n",
    "    elif user.losing_streak == 1:\n",
    "        if np.random.uniform() > 0.8:  # 80% chance of staying\n",
    "            return True\n",
    "    elif user.losing_streak == 2:\n",
    "        if np.random.uniform() > 0.4:  # 40% chance of staying\n",
    "            return True\n",
    "    elif user.losing_streak == 3:\n",
    "        if np.random.uniform() > 0.2:  # 20% chance of staying\n",
    "            return True\n",
    "    else:\n",
    "        pass\n",
    "    return False\n",
    "\n",
    "def select_player(population):\n",
    "    return population[random.choice(list(population.keys()))]\n",
    "\n",
    "def win_probability(greater, lesser):\n",
    "    # # https://github.com/sublee/trueskill/issues/1\n",
    "    exp = (greater.mu - lesser.mu) / BETA\n",
    "    n = 4. ** exp\n",
    "    return n / (n + 1)\n",
    "\n",
    "\n",
    "def update_retention(player, population):\n",
    "    if resign(player):\n",
    "        population.pop(player.name)\n",
    "    return population"
   ]
  },
  {
   "cell_type": "code",
   "execution_count": 130,
   "metadata": {},
   "outputs": [],
   "source": [
    "# algorithms.py\n",
    "\n",
    "def find_losers(curr, population):\n",
    "    # pick someone with the longest losing sterak\n",
    "    candidates = sorted(population.values(), key=lambda x: x.losing_streak, reverse=True)\n",
    "    candidates = list(map(lambda x: x.name, candidates))[:5]  # transform to a list of indices\n",
    "    \n",
    "    if curr.name in candidates:\n",
    "        candidates.remove(curr.name)\n",
    "        \n",
    "    if len(candidates) == 0:\n",
    "        candidates = list(population.keys())\n",
    "        candidates.remove(curr.name)  # remove player from pool of potential players\n",
    "    return candidates\n",
    "\n",
    "\n",
    "def find_same(curr, population):\n",
    "    candidates = []\n",
    "    for k, v in population.items():\n",
    "\n",
    "        # pick someone with the same losing streak, someone with the longest losing streak\n",
    "        if (v.losing_streak == curr.losing_streak) and (v.name != curr.name):\n",
    "            candidates.append(k)\n",
    "\n",
    "    if len(candidates) == 0:\n",
    "        candidates = list(population.keys())\n",
    "        candidates.remove(curr.name)  # remove player from pool of potential players\n",
    "        \n",
    "    return candidates\n",
    "\n",
    "\n",
    "def find_p1p2(p):\n",
    "    \"\"\"Select p1 and p2 for matchmaking.\n",
    "    \"\"\"\n",
    "    p1 = select_player(p)\n",
    "\n",
    "    pool = find_same(p1, p)\n",
    "    # candidates = find_losers(p1, p)\n",
    "    # pool = find_same_ranking(p1, p)\n",
    "    p2 = p[random.choice(pool)]\n",
    "    \n",
    "    return p1, p2\n",
    "\n",
    "\n",
    "def find_same_ranking(curr, population):        \n",
    "    \n",
    "    candidates = []\n",
    "    for k, v in population.items():\n",
    "\n",
    "        if (abs(v.rating.mu - curr.rating.mu) < BETA) and (v.name != curr.name):\n",
    "            candidates.append(k)\n",
    "\n",
    "    if len(candidates) == 0:\n",
    "        candidates = list(population.keys())\n",
    "        candidates.remove(curr.name)  # remove player from pool of potential players\n",
    "    return candidates"
   ]
  },
  {
   "cell_type": "code",
   "execution_count": 135,
   "metadata": {},
   "outputs": [],
   "source": [
    "BETA = 8.333\n",
    "\n",
    "n_rollouts = 500\n",
    "n_epochs = 200\n",
    "retention = []\n",
    "k = 100\n",
    "\n",
    "for _ in range(n_rollouts):\n",
    "    p = generate_population(k=k)\n",
    "    \n",
    "    for epoch in range(n_epochs):\n",
    "        if len(p.keys()) == 0:\n",
    "            raise ValueError(\"Empty population.\")\n",
    "        \n",
    "        p1, p2 = find_p1p2(p)\n",
    "        prob = win_probability(p1.rating, p2.rating)  # prob represents p1's p(win)\n",
    "        \n",
    "        if np.random.uniform() < prob:  # p1 wins\n",
    "            p1.history.append(1)\n",
    "            p2.history.append(0)\n",
    "            p1.rating, p2.rating = rate_1vs1(p1.rating, p2.rating)\n",
    "        else:\n",
    "            p1.history.append(0)\n",
    "            p2.history.append(1)\n",
    "            p2.rating, p1.rating = rate_1vs1(p2.rating, p1.rating)\n",
    "\n",
    "        # update retention\n",
    "        p = update_retention(p1, p)\n",
    "        p = update_retention(p2, p)\n",
    "            \n",
    "    retention.append(len(p.keys()))"
   ]
  },
  {
   "cell_type": "code",
   "execution_count": 136,
   "metadata": {},
   "outputs": [
    {
     "data": {
      "text/plain": [
       "<a list of 10 Patch objects>"
      ]
     },
     "execution_count": 136,
     "metadata": {},
     "output_type": "execute_result"
    },
    {
     "data": {
      "image/png": "[encoded data removed]",
      "text/plain": [
       "<Figure size 432x288 with 1 Axes>"
      ]
     },
     "metadata": {
      "needs_background": "light"
     },
     "output_type": "display_data"
    }
   ],
   "source": [
    "plt.hist(retention)[2]  # find same losing streak"
   ]
  },
  {
   "cell_type": "code",
   "execution_count": 128,
   "metadata": {},
   "outputs": [
    {
     "data": {
      "text/plain": [
       "<a list of 10 Patch objects>"
      ]
     },
     "execution_count": 128,
     "metadata": {},
     "output_type": "execute_result"
    },
    {
     "data": {
      "image/png": "[encoded data removed]",
      "text/plain": [
       "<Figure size 432x288 with 1 Axes>"
      ]
     },
     "metadata": {
      "needs_background": "light"
     },
     "output_type": "display_data"
    }
   ],
   "source": [
    "plt.hist(retention)[2]  # find same rankings"
   ]
  },
  {
   "cell_type": "code",
   "execution_count": 137,
   "metadata": {},
   "outputs": [
    {
     "name": "stdout",
     "output_type": "stream",
     "text": [
      "0 [1, 1, 1, 1, 1]\n",
      "4 [0, 1, 0]\n",
      "5 [1, 1, 1, 1, 1, 1]\n",
      "7 [0, 1, 1, 1, 0, 1, 0, 1, 1]\n",
      "12 [0, 0, 0, 0, 0, 0]\n",
      "14 [1, 0]\n",
      "19 [0, 1, 1, 1, 0, 1, 0]\n",
      "22 [0, 1, 0, 0, 1, 0]\n",
      "23 [1, 1, 1, 1]\n",
      "26 [1, 0, 1, 1, 1]\n",
      "30 [0, 1, 1, 1, 1, 1]\n",
      "32 [1, 0, 1, 1, 1, 1, 0]\n",
      "33 [1, 1, 1, 1, 1]\n",
      "40 [0, 0, 1, 0, 0, 0, 0]\n",
      "43 [0, 0, 1, 1, 0]\n",
      "44 [1]\n",
      "45 [0, 1, 1, 1, 1, 1, 0]\n",
      "46 [0, 1, 1, 0, 1]\n",
      "50 [1, 1, 1, 1, 0, 1, 1, 0, 0]\n",
      "52 [1, 0, 1, 0, 1]\n",
      "56 [1, 1, 1, 1, 0, 0, 1]\n",
      "64 [1, 0]\n",
      "66 [0, 0]\n",
      "67 [1, 1, 1, 1, 0, 1]\n",
      "69 [0, 1, 0, 0]\n",
      "73 [1, 1, 0, 1, 1, 0]\n",
      "78 [1, 1, 1, 1, 0, 1, 1, 0, 1, 1, 1, 1, 0]\n",
      "86 [0, 1, 0, 1, 0, 1, 0, 1, 0]\n",
      "92 [1, 1, 0, 1, 0]\n",
      "96 [1, 1, 1, 1]\n"
     ]
    }
   ],
   "source": [
    "scoreboard(p)"
   ]
  },
  {
   "cell_type": "code",
   "execution_count": null,
   "metadata": {},
   "outputs": [],
   "source": []
  }
 ],
 "metadata": {
  "kernelspec": {
   "display_name": "Python 3",
   "language": "python",
   "name": "python3"
  },
  "language_info": {
   "codemirror_mode": {
    "name": "ipython",
    "version": 3
   },
   "file_extension": ".py",
   "mimetype": "text/x-python",
   "name": "python",
   "nbconvert_exporter": "python",
   "pygments_lexer": "ipython3",
   "version": "3.8.3"
  }
 },
 "nbformat": 4,
 "nbformat_minor": 4
}
