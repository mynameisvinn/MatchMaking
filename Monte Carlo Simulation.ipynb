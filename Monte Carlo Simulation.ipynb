{
 "cells": [
  {
   "cell_type": "code",
   "execution_count": 85,
   "metadata": {},
   "outputs": [],
   "source": [
    "import random\n",
    "import matplotlib.pyplot as plt\n",
    "import numpy as np\n",
    "from trueskill import Rating\n",
    "from trueskill import Rating, quality_1vs1, rate_1vs1\n",
    "%matplotlib inline\n",
    "\n",
    "def scoreboard(population):\n",
    "    for v in population.values():\n",
    "        print(v.name, v.history)\n",
    "        \n",
    "def resign(user):\n",
    "    if user.losing_streak == 0:\n",
    "        if np.random.uniform() > 0.95:  # 95% chance of staying\n",
    "            return True\n",
    "    elif user.losing_streak == 1:\n",
    "        if np.random.uniform() > 0.8:  # 80% chance of staying\n",
    "            return True\n",
    "    elif user.losing_streak == 2:\n",
    "        if np.random.uniform() > 0.4:  # 40% chance of staying\n",
    "            return True\n",
    "    elif user.losing_streak == 3:\n",
    "        if np.random.uniform() > 0.2:  # 20% chance of staying\n",
    "            return True\n",
    "    else:\n",
    "        pass\n",
    "    return False\n",
    "\n",
    "\n",
    "class User(object):\n",
    "    \n",
    "    def __init__(self, name, rating):\n",
    "        self.name = name\n",
    "        self.history = []\n",
    "        self.rating = Rating(rating)\n",
    "        \n",
    "    @property\n",
    "    def losing_streak(self):\n",
    "        streak = 0\n",
    "        \n",
    "        if len(self.history) == 0:\n",
    "            return streak\n",
    "        for i in range(len(self.history) - 1, -1, -1):\n",
    "            if self.history[i] == 0:\n",
    "                streak += 1\n",
    "            else:\n",
    "                return streak\n",
    "        return streak\n",
    "    \n",
    "    \n",
    "def generate_population(k):\n",
    "    population = {}\n",
    "    for i in range(k):\n",
    "        rating = np.random.normal(loc=50.0, scale=10.0)\n",
    "        population[i] = User(i, rating=rating)\n",
    "    return population\n",
    "\n",
    "\n",
    "def select_player(population):\n",
    "    return population[random.choice(list(population.keys()))]"
   ]
  },
  {
   "cell_type": "code",
   "execution_count": null,
   "metadata": {},
   "outputs": [],
   "source": []
  },
  {
   "cell_type": "code",
   "execution_count": 130,
   "metadata": {},
   "outputs": [],
   "source": [
    "# algorithms.py\n",
    "\n",
    "def find_losers(curr, population):\n",
    "    # pick someone with the longest losing sterak\n",
    "    candidates = sorted(population.values(), key=lambda x: x.losing_streak, reverse=True)\n",
    "    candidates = list(map(lambda x: x.name, candidates))[:5]  # transform to a list of indices\n",
    "    \n",
    "    if curr.name in candidates:\n",
    "        candidates.remove(curr.name)\n",
    "        \n",
    "    if len(candidates) == 0:\n",
    "        candidates = list(population.keys())\n",
    "        candidates.remove(curr.name)  # remove player from pool of potential players\n",
    "    return candidates\n",
    "\n",
    "\n",
    "def find_same(curr, population):\n",
    "    candidates = []\n",
    "    for k, v in population.items():\n",
    "\n",
    "        # pick someone with the same losing streak, someone with the longest losing streak\n",
    "        if (v.losing_streak == curr.losing_streak) and (v.name != curr.name):\n",
    "            candidates.append(k)\n",
    "\n",
    "    if len(candidates) == 0:\n",
    "        candidates = list(population.keys())\n",
    "        candidates.remove(curr.name)  # remove player from pool of potential players\n",
    "        \n",
    "    return candidates\n",
    "\n",
    "\n",
    "def find_p1p2(p):\n",
    "    \"\"\"Select p1 and p2 for matchmaking.\n",
    "    \"\"\"\n",
    "    p1 = select_player(p)\n",
    "\n",
    "    pool = find_same(p1, p)\n",
    "    # candidates = find_losers(p1, p)\n",
    "    # pool = find_same_ranking(p1, p)\n",
    "    p2 = p[random.choice(pool)]\n",
    "    \n",
    "    return p1, p2\n",
    "\n",
    "\n",
    "def find_same_ranking(curr, population):        \n",
    "    \n",
    "    candidates = []\n",
    "    for k, v in population.items():\n",
    "\n",
    "        if (abs(v.rating.mu - curr.rating.mu) < BETA) and (v.name != curr.name):\n",
    "            candidates.append(k)\n",
    "\n",
    "    if len(candidates) == 0:\n",
    "        candidates = list(population.keys())\n",
    "        candidates.remove(curr.name)  # remove player from pool of potential players\n",
    "    return candidates"
   ]
  },
  {
   "cell_type": "code",
   "execution_count": 131,
   "metadata": {},
   "outputs": [],
   "source": [
    "def win_probability(greater, lesser):\n",
    "    # # https://github.com/sublee/trueskill/issues/1\n",
    "    exp = (greater.mu - lesser.mu) / BETA\n",
    "    n = 4. ** exp\n",
    "    return n / (n + 1)"
   ]
  },
  {
   "cell_type": "code",
   "execution_count": 132,
   "metadata": {},
   "outputs": [],
   "source": [
    "def update_retention(player, population):\n",
    "    if resign(player):\n",
    "        population.pop(player.name)\n",
    "    return population"
   ]
  },
  {
   "cell_type": "code",
   "execution_count": 133,
   "metadata": {},
   "outputs": [
    {
     "ename": "IndexError",
     "evalue": "Cannot choose from an empty sequence",
     "output_type": "error",
     "traceback": [
      "\u001b[0;31m---------------------------------------------------------------------------\u001b[0m",
      "\u001b[0;31mIndexError\u001b[0m                                Traceback (most recent call last)",
      "\u001b[0;32m<ipython-input-133-f0c81857e056>\u001b[0m in \u001b[0;36m<module>\u001b[0;34m\u001b[0m\n\u001b[1;32m     13\u001b[0m             \u001b[0;32mraise\u001b[0m \u001b[0mValueError\u001b[0m\u001b[0;34m(\u001b[0m\u001b[0;34m\"Empty population.\"\u001b[0m\u001b[0;34m)\u001b[0m\u001b[0;34m\u001b[0m\u001b[0;34m\u001b[0m\u001b[0m\n\u001b[1;32m     14\u001b[0m \u001b[0;34m\u001b[0m\u001b[0m\n\u001b[0;32m---> 15\u001b[0;31m         \u001b[0mp1\u001b[0m\u001b[0;34m,\u001b[0m \u001b[0mp2\u001b[0m \u001b[0;34m=\u001b[0m \u001b[0mfind_p1p2\u001b[0m\u001b[0;34m(\u001b[0m\u001b[0mp\u001b[0m\u001b[0;34m)\u001b[0m\u001b[0;34m\u001b[0m\u001b[0;34m\u001b[0m\u001b[0m\n\u001b[0m\u001b[1;32m     16\u001b[0m         \u001b[0mprob\u001b[0m \u001b[0;34m=\u001b[0m \u001b[0mwin_probability\u001b[0m\u001b[0;34m(\u001b[0m\u001b[0mp1\u001b[0m\u001b[0;34m.\u001b[0m\u001b[0mrating\u001b[0m\u001b[0;34m,\u001b[0m \u001b[0mp2\u001b[0m\u001b[0;34m.\u001b[0m\u001b[0mrating\u001b[0m\u001b[0;34m)\u001b[0m  \u001b[0;31m# prob represents p1's p(win)\u001b[0m\u001b[0;34m\u001b[0m\u001b[0;34m\u001b[0m\u001b[0m\n\u001b[1;32m     17\u001b[0m \u001b[0;34m\u001b[0m\u001b[0m\n",
      "\u001b[0;32m<ipython-input-130-a43779424b2c>\u001b[0m in \u001b[0;36mfind_p1p2\u001b[0;34m(p)\u001b[0m\n\u001b[1;32m     38\u001b[0m     \u001b[0;31m# candidates = find_losers(p1, p)\u001b[0m\u001b[0;34m\u001b[0m\u001b[0;34m\u001b[0m\u001b[0;34m\u001b[0m\u001b[0m\n\u001b[1;32m     39\u001b[0m     \u001b[0;31m# pool = find_same_ranking(p1, p)\u001b[0m\u001b[0;34m\u001b[0m\u001b[0;34m\u001b[0m\u001b[0;34m\u001b[0m\u001b[0m\n\u001b[0;32m---> 40\u001b[0;31m     \u001b[0mp2\u001b[0m \u001b[0;34m=\u001b[0m \u001b[0mp\u001b[0m\u001b[0;34m[\u001b[0m\u001b[0mrandom\u001b[0m\u001b[0;34m.\u001b[0m\u001b[0mchoice\u001b[0m\u001b[0;34m(\u001b[0m\u001b[0mpool\u001b[0m\u001b[0;34m)\u001b[0m\u001b[0;34m]\u001b[0m\u001b[0;34m\u001b[0m\u001b[0;34m\u001b[0m\u001b[0m\n\u001b[0m\u001b[1;32m     41\u001b[0m \u001b[0;34m\u001b[0m\u001b[0m\n\u001b[1;32m     42\u001b[0m     \u001b[0;32mreturn\u001b[0m \u001b[0mp1\u001b[0m\u001b[0;34m,\u001b[0m \u001b[0mp2\u001b[0m\u001b[0;34m\u001b[0m\u001b[0;34m\u001b[0m\u001b[0m\n",
      "\u001b[0;32m~/anaconda3/lib/python3.8/random.py\u001b[0m in \u001b[0;36mchoice\u001b[0;34m(self, seq)\u001b[0m\n\u001b[1;32m    288\u001b[0m             \u001b[0mi\u001b[0m \u001b[0;34m=\u001b[0m \u001b[0mself\u001b[0m\u001b[0;34m.\u001b[0m\u001b[0m_randbelow\u001b[0m\u001b[0;34m(\u001b[0m\u001b[0mlen\u001b[0m\u001b[0;34m(\u001b[0m\u001b[0mseq\u001b[0m\u001b[0;34m)\u001b[0m\u001b[0;34m)\u001b[0m\u001b[0;34m\u001b[0m\u001b[0;34m\u001b[0m\u001b[0m\n\u001b[1;32m    289\u001b[0m         \u001b[0;32mexcept\u001b[0m \u001b[0mValueError\u001b[0m\u001b[0;34m:\u001b[0m\u001b[0;34m\u001b[0m\u001b[0;34m\u001b[0m\u001b[0m\n\u001b[0;32m--> 290\u001b[0;31m             \u001b[0;32mraise\u001b[0m \u001b[0mIndexError\u001b[0m\u001b[0;34m(\u001b[0m\u001b[0;34m'Cannot choose from an empty sequence'\u001b[0m\u001b[0;34m)\u001b[0m \u001b[0;32mfrom\u001b[0m \u001b[0;32mNone\u001b[0m\u001b[0;34m\u001b[0m\u001b[0;34m\u001b[0m\u001b[0m\n\u001b[0m\u001b[1;32m    291\u001b[0m         \u001b[0;32mreturn\u001b[0m \u001b[0mseq\u001b[0m\u001b[0;34m[\u001b[0m\u001b[0mi\u001b[0m\u001b[0;34m]\u001b[0m\u001b[0;34m\u001b[0m\u001b[0;34m\u001b[0m\u001b[0m\n\u001b[1;32m    292\u001b[0m \u001b[0;34m\u001b[0m\u001b[0m\n",
      "\u001b[0;31mIndexError\u001b[0m: Cannot choose from an empty sequence"
     ]
    }
   ],
   "source": [
    "BETA = 8.333\n",
    "\n",
    "n_rollouts = 500\n",
    "n_epochs = 200\n",
    "retention = []\n",
    "k = 100\n",
    "\n",
    "for _ in range(n_rollouts):\n",
    "    p = generate_population(k=k)\n",
    "    \n",
    "    for epoch in range(n_epochs):\n",
    "        if len(p.keys()) == 0:\n",
    "            raise ValueError(\"Empty population.\")\n",
    "        \n",
    "        p1, p2 = find_p1p2(p)\n",
    "        prob = win_probability(p1.rating, p2.rating)  # prob represents p1's p(win)\n",
    "        \n",
    "        if np.random.uniform() < prob:  # p1 wins\n",
    "            p1.history.append(1)\n",
    "            p2.history.append(0)\n",
    "            p1.rating, p2.rating = rate_1vs1(p1.rating, p2.rating)\n",
    "        else:\n",
    "            p1.history.append(0)\n",
    "            p2.history.append(1)\n",
    "            p2.rating, p1.rating = rate_1vs1(p2.rating, p1.rating)\n",
    "\n",
    "        # update retention\n",
    "        p = update_retention(p1, p)\n",
    "        p = update_retention(p2, p)\n",
    "            \n",
    "    retention.append(len(p.keys()))"
   ]
  },
  {
   "cell_type": "code",
   "execution_count": null,
   "metadata": {},
   "outputs": [],
   "source": [
    "plt.hist(retention)[2]  # find same losing streak"
   ]
  },
  {
   "cell_type": "code",
   "execution_count": 128,
   "metadata": {},
   "outputs": [
    {
     "data": {
      "text/plain": [
       "<a list of 10 Patch objects>"
      ]
     },
     "execution_count": 128,
     "metadata": {},
     "output_type": "execute_result"
    },
    {
     "data": {
      "image/png": "[encoded data removed]",
      "text/plain": [
       "<Figure size 432x288 with 1 Axes>"
      ]
     },
     "metadata": {
      "needs_background": "light"
     },
     "output_type": "display_data"
    }
   ],
   "source": [
    "plt.hist(retention)[2]  # find same rankings"
   ]
  },
  {
   "cell_type": "code",
   "execution_count": 129,
   "metadata": {},
   "outputs": [
    {
     "name": "stdout",
     "output_type": "stream",
     "text": [
      "6 [1, 0, 1, 0, 0, 0, 0, 1]\n",
      "15 [1, 1, 1, 0, 1, 0, 1]\n",
      "23 [1, 1, 1, 1, 1, 1, 0]\n",
      "43 [1, 0, 1, 0, 1, 1, 1, 1]\n",
      "49 [1, 1, 1, 1, 0, 1]\n",
      "57 [0, 1, 1, 0, 1, 1, 1, 1]\n",
      "76 [0, 1, 0, 1, 0, 1, 0]\n",
      "79 [1, 1, 0, 1, 1, 0, 1, 1]\n",
      "83 [0, 1, 1, 1, 0, 0]\n",
      "86 [0, 1, 1, 0]\n",
      "89 [1, 0, 1, 1, 1, 0]\n",
      "90 [0, 1, 1, 1, 0, 1, 1, 1]\n",
      "92 [0, 0, 1, 0, 1, 0]\n"
     ]
    }
   ],
   "source": [
    "scoreboard(p)"
   ]
  },
  {
   "cell_type": "code",
   "execution_count": null,
   "metadata": {},
   "outputs": [],
   "source": []
  }
 ],
 "metadata": {
  "kernelspec": {
   "display_name": "Python 3",
   "language": "python",
   "name": "python3"
  },
  "language_info": {
   "codemirror_mode": {
    "name": "ipython",
    "version": 3
   },
   "file_extension": ".py",
   "mimetype": "text/x-python",
   "name": "python",
   "nbconvert_exporter": "python",
   "pygments_lexer": "ipython3",
   "version": "3.8.3"
  }
 },
 "nbformat": 4,
 "nbformat_minor": 4
}
