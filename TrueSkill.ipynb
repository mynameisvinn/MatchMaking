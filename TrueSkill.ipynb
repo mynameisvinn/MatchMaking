{
 "cells": [
  {
   "cell_type": "code",
   "execution_count": null,
   "metadata": {},
   "outputs": [],
   "source": [
    "# https://trueskill.org/\n"
   ]
  },
  {
   "cell_type": "code",
   "execution_count": 28,
   "metadata": {},
   "outputs": [
    {
     "data": {
      "text/plain": [
       "(trueskill.Rating(mu=25.000, sigma=8.333),\n",
       " trueskill.Rating(mu=33.333, sigma=8.333))"
      ]
     },
     "execution_count": 28,
     "metadata": {},
     "output_type": "execute_result"
    }
   ],
   "source": [
    "from trueskill import Rating, quality_1vs1, rate_1vs1\n",
    "\n",
    "BETA = 8.333  # \n",
    "alice, bob = Rating(25), Rating(25 + BETA)  # assign Alice and Bob's ratings\n",
    "alice, bob"
   ]
  },
  {
   "cell_type": "code",
   "execution_count": 29,
   "metadata": {},
   "outputs": [],
   "source": [
    "def win_probability(greater, lesser):\n",
    "    # # https://github.com/sublee/trueskill/issues/1\n",
    "    exp = (greater.mu - lesser.mu) / BETA\n",
    "    n = 4. ** exp\n",
    "    return n / (n + 1)"
   ]
  },
  {
   "cell_type": "code",
   "execution_count": 30,
   "metadata": {},
   "outputs": [
    {
     "data": {
      "text/plain": [
       "(0.8, 0.20000000000000004)"
      ]
     },
     "execution_count": 30,
     "metadata": {},
     "output_type": "execute_result"
    }
   ],
   "source": [
    "win_probability(bob, alice), win_probability(alice, bob)"
   ]
  },
  {
   "cell_type": "code",
   "execution_count": 31,
   "metadata": {},
   "outputs": [],
   "source": [
    "alice, bob = rate_1vs1(alice, bob)  # param 1 is the winner of the match"
   ]
  },
  {
   "cell_type": "code",
   "execution_count": 32,
   "metadata": {},
   "outputs": [
    {
     "data": {
      "text/plain": [
       "(trueskill.Rating(mu=31.756, sigma=6.952),\n",
       " trueskill.Rating(mu=26.577, sigma=6.952))"
      ]
     },
     "execution_count": 32,
     "metadata": {},
     "output_type": "execute_result"
    }
   ],
   "source": [
    "alice, bob"
   ]
  },
  {
   "cell_type": "markdown",
   "metadata": {},
   "source": [
    "# example"
   ]
  },
  {
   "cell_type": "code",
   "execution_count": 65,
   "metadata": {},
   "outputs": [],
   "source": [
    "import numpy as np\n",
    "from trueskill import Rating, quality_1vs1, rate_1vs1\n",
    "\n",
    "BETA = 8.333\n",
    "\n",
    "def win_probability(greater, lesser):\n",
    "    # # https://github.com/sublee/trueskill/issues/1\n",
    "    exp = (greater.mu - lesser.mu) / BETA\n",
    "    n = 4. ** exp\n",
    "    return n / (n + 1)"
   ]
  },
  {
   "cell_type": "code",
   "execution_count": 70,
   "metadata": {},
   "outputs": [],
   "source": [
    "class Player(object):\n",
    "    def __init__(self, name, mu):\n",
    "        self.name = name\n",
    "        self.real = Rating(mu)\n",
    "        self.fake = Rating(50)\n",
    "        self.count = 0"
   ]
  },
  {
   "cell_type": "code",
   "execution_count": 71,
   "metadata": {},
   "outputs": [
    {
     "name": "stdout",
     "output_type": "stream",
     "text": [
      "0 trueskill.Rating(mu=99.427, sigma=8.333) trueskill.Rating(mu=50.000, sigma=8.333)\n",
      "1 trueskill.Rating(mu=53.165, sigma=8.333) trueskill.Rating(mu=50.000, sigma=8.333)\n",
      "2 trueskill.Rating(mu=52.096, sigma=8.333) trueskill.Rating(mu=50.000, sigma=8.333)\n",
      "3 trueskill.Rating(mu=11.514, sigma=8.333) trueskill.Rating(mu=50.000, sigma=8.333)\n",
      "4 trueskill.Rating(mu=1.654, sigma=8.333) trueskill.Rating(mu=50.000, sigma=8.333)\n",
      "5 trueskill.Rating(mu=31.475, sigma=8.333) trueskill.Rating(mu=50.000, sigma=8.333)\n",
      "6 trueskill.Rating(mu=82.917, sigma=8.333) trueskill.Rating(mu=50.000, sigma=8.333)\n",
      "7 trueskill.Rating(mu=40.333, sigma=8.333) trueskill.Rating(mu=50.000, sigma=8.333)\n",
      "8 trueskill.Rating(mu=88.927, sigma=8.333) trueskill.Rating(mu=50.000, sigma=8.333)\n",
      "9 trueskill.Rating(mu=20.110, sigma=8.333) trueskill.Rating(mu=50.000, sigma=8.333)\n",
      "10 trueskill.Rating(mu=93.103, sigma=8.333) trueskill.Rating(mu=50.000, sigma=8.333)\n",
      "11 trueskill.Rating(mu=77.597, sigma=8.333) trueskill.Rating(mu=50.000, sigma=8.333)\n",
      "12 trueskill.Rating(mu=43.026, sigma=8.333) trueskill.Rating(mu=50.000, sigma=8.333)\n",
      "13 trueskill.Rating(mu=85.681, sigma=8.333) trueskill.Rating(mu=50.000, sigma=8.333)\n",
      "14 trueskill.Rating(mu=75.619, sigma=8.333) trueskill.Rating(mu=50.000, sigma=8.333)\n",
      "15 trueskill.Rating(mu=89.235, sigma=8.333) trueskill.Rating(mu=50.000, sigma=8.333)\n",
      "16 trueskill.Rating(mu=96.643, sigma=8.333) trueskill.Rating(mu=50.000, sigma=8.333)\n",
      "17 trueskill.Rating(mu=80.001, sigma=8.333) trueskill.Rating(mu=50.000, sigma=8.333)\n",
      "18 trueskill.Rating(mu=3.583, sigma=8.333) trueskill.Rating(mu=50.000, sigma=8.333)\n",
      "19 trueskill.Rating(mu=95.590, sigma=8.333) trueskill.Rating(mu=50.000, sigma=8.333)\n",
      "20 trueskill.Rating(mu=35.167, sigma=8.333) trueskill.Rating(mu=50.000, sigma=8.333)\n",
      "21 trueskill.Rating(mu=93.361, sigma=8.333) trueskill.Rating(mu=50.000, sigma=8.333)\n",
      "22 trueskill.Rating(mu=44.877, sigma=8.333) trueskill.Rating(mu=50.000, sigma=8.333)\n",
      "23 trueskill.Rating(mu=1.752, sigma=8.333) trueskill.Rating(mu=50.000, sigma=8.333)\n",
      "24 trueskill.Rating(mu=9.594, sigma=8.333) trueskill.Rating(mu=50.000, sigma=8.333)\n",
      "25 trueskill.Rating(mu=65.344, sigma=8.333) trueskill.Rating(mu=50.000, sigma=8.333)\n",
      "26 trueskill.Rating(mu=79.443, sigma=8.333) trueskill.Rating(mu=50.000, sigma=8.333)\n",
      "27 trueskill.Rating(mu=93.742, sigma=8.333) trueskill.Rating(mu=50.000, sigma=8.333)\n",
      "28 trueskill.Rating(mu=64.212, sigma=8.333) trueskill.Rating(mu=50.000, sigma=8.333)\n",
      "29 trueskill.Rating(mu=81.012, sigma=8.333) trueskill.Rating(mu=50.000, sigma=8.333)\n",
      "30 trueskill.Rating(mu=25.597, sigma=8.333) trueskill.Rating(mu=50.000, sigma=8.333)\n",
      "31 trueskill.Rating(mu=42.168, sigma=8.333) trueskill.Rating(mu=50.000, sigma=8.333)\n",
      "32 trueskill.Rating(mu=86.293, sigma=8.333) trueskill.Rating(mu=50.000, sigma=8.333)\n",
      "33 trueskill.Rating(mu=36.080, sigma=8.333) trueskill.Rating(mu=50.000, sigma=8.333)\n",
      "34 trueskill.Rating(mu=35.397, sigma=8.333) trueskill.Rating(mu=50.000, sigma=8.333)\n",
      "35 trueskill.Rating(mu=49.898, sigma=8.333) trueskill.Rating(mu=50.000, sigma=8.333)\n",
      "36 trueskill.Rating(mu=7.849, sigma=8.333) trueskill.Rating(mu=50.000, sigma=8.333)\n",
      "37 trueskill.Rating(mu=90.060, sigma=8.333) trueskill.Rating(mu=50.000, sigma=8.333)\n",
      "38 trueskill.Rating(mu=13.515, sigma=8.333) trueskill.Rating(mu=50.000, sigma=8.333)\n",
      "39 trueskill.Rating(mu=43.478, sigma=8.333) trueskill.Rating(mu=50.000, sigma=8.333)\n",
      "40 trueskill.Rating(mu=18.978, sigma=8.333) trueskill.Rating(mu=50.000, sigma=8.333)\n",
      "41 trueskill.Rating(mu=23.709, sigma=8.333) trueskill.Rating(mu=50.000, sigma=8.333)\n",
      "42 trueskill.Rating(mu=37.634, sigma=8.333) trueskill.Rating(mu=50.000, sigma=8.333)\n",
      "43 trueskill.Rating(mu=84.723, sigma=8.333) trueskill.Rating(mu=50.000, sigma=8.333)\n",
      "44 trueskill.Rating(mu=83.795, sigma=8.333) trueskill.Rating(mu=50.000, sigma=8.333)\n",
      "45 trueskill.Rating(mu=37.679, sigma=8.333) trueskill.Rating(mu=50.000, sigma=8.333)\n",
      "46 trueskill.Rating(mu=18.491, sigma=8.333) trueskill.Rating(mu=50.000, sigma=8.333)\n",
      "47 trueskill.Rating(mu=94.384, sigma=8.333) trueskill.Rating(mu=50.000, sigma=8.333)\n",
      "48 trueskill.Rating(mu=0.718, sigma=8.333) trueskill.Rating(mu=50.000, sigma=8.333)\n",
      "49 trueskill.Rating(mu=15.920, sigma=8.333) trueskill.Rating(mu=50.000, sigma=8.333)\n"
     ]
    }
   ],
   "source": [
    "n_players = 50\n",
    "\n",
    "players = {}\n",
    "for i in range(n_players):\n",
    "    m = np.random.uniform(0, 100)\n",
    "    players[i] = Player(i, m)\n",
    "\n",
    "for k, v in players.items():\n",
    "    print(v.name, v.real, v.fake)"
   ]
  },
  {
   "cell_type": "code",
   "execution_count": 72,
   "metadata": {},
   "outputs": [],
   "source": [
    "n_iterations = 10\n",
    "\n",
    "for _ in range(50):\n",
    "    a, b = np.random.choice(range(n_players), 2)\n",
    "    p1 = players[a]\n",
    "    p2 = players[b]\n",
    "    \n",
    "    p1.count += 1\n",
    "    p2.count += 1\n",
    "\n",
    "    prob_p1win = win_probability(p1.real, p2.real)\n",
    "\n",
    "    # p1 wins\n",
    "    if np.random.uniform() < prob_p1win:\n",
    "        p1.fake, p2.fake = rate_1vs1(p1.real, p2.real)\n",
    "    else:\n",
    "        p2.fake, p1.fake = rate_1vs1(p2.real, p1.real)"
   ]
  },
  {
   "cell_type": "code",
   "execution_count": 73,
   "metadata": {},
   "outputs": [
    {
     "name": "stdout",
     "output_type": "stream",
     "text": [
      "0 trueskill.Rating(mu=99.427, sigma=8.333) trueskill.Rating(mu=92.354, sigma=6.930) 2\n",
      "1 trueskill.Rating(mu=53.165, sigma=8.333) trueskill.Rating(mu=53.154, sigma=8.323) 2\n",
      "2 trueskill.Rating(mu=52.096, sigma=8.333) trueskill.Rating(mu=51.983, sigma=8.246) 3\n",
      "3 trueskill.Rating(mu=11.514, sigma=8.333) trueskill.Rating(mu=11.514, sigma=8.334) 2\n",
      "4 trueskill.Rating(mu=1.654, sigma=8.333) trueskill.Rating(mu=1.653, sigma=8.332) 4\n",
      "5 trueskill.Rating(mu=31.475, sigma=8.333) trueskill.Rating(mu=50.000, sigma=8.333) 0\n",
      "6 trueskill.Rating(mu=82.917, sigma=8.333) trueskill.Rating(mu=78.979, sigma=7.229) 2\n",
      "7 trueskill.Rating(mu=40.333, sigma=8.333) trueskill.Rating(mu=41.481, sigma=7.800) 2\n",
      "8 trueskill.Rating(mu=88.927, sigma=8.333) trueskill.Rating(mu=94.459, sigma=7.052) 4\n",
      "9 trueskill.Rating(mu=20.110, sigma=8.333) trueskill.Rating(mu=50.000, sigma=8.333) 0\n",
      "10 trueskill.Rating(mu=93.103, sigma=8.333) trueskill.Rating(mu=93.103, sigma=8.334) 2\n",
      "11 trueskill.Rating(mu=77.597, sigma=8.333) trueskill.Rating(mu=81.492, sigma=7.235) 2\n",
      "12 trueskill.Rating(mu=43.026, sigma=8.333) trueskill.Rating(mu=50.000, sigma=8.333) 0\n",
      "13 trueskill.Rating(mu=85.681, sigma=8.333) trueskill.Rating(mu=85.681, sigma=8.334) 1\n",
      "14 trueskill.Rating(mu=75.619, sigma=8.333) trueskill.Rating(mu=71.723, sigma=7.235) 6\n",
      "15 trueskill.Rating(mu=89.235, sigma=8.333) trueskill.Rating(mu=89.236, sigma=8.332) 2\n",
      "16 trueskill.Rating(mu=96.643, sigma=8.333) trueskill.Rating(mu=96.654, sigma=8.323) 2\n",
      "17 trueskill.Rating(mu=80.001, sigma=8.333) trueskill.Rating(mu=80.011, sigma=8.324) 1\n",
      "18 trueskill.Rating(mu=3.583, sigma=8.333) trueskill.Rating(mu=2.816, sigma=7.932) 1\n",
      "19 trueskill.Rating(mu=95.590, sigma=8.333) trueskill.Rating(mu=50.000, sigma=8.333) 0\n",
      "20 trueskill.Rating(mu=35.167, sigma=8.333) trueskill.Rating(mu=35.145, sigma=8.312) 2\n",
      "21 trueskill.Rating(mu=93.361, sigma=8.333) trueskill.Rating(mu=50.000, sigma=8.333) 0\n",
      "22 trueskill.Rating(mu=44.877, sigma=8.333) trueskill.Rating(mu=44.945, sigma=8.277) 5\n",
      "23 trueskill.Rating(mu=1.752, sigma=8.333) trueskill.Rating(mu=1.752, sigma=8.334) 2\n",
      "24 trueskill.Rating(mu=9.594, sigma=8.333) trueskill.Rating(mu=9.526, sigma=8.277) 3\n",
      "25 trueskill.Rating(mu=65.344, sigma=8.333) trueskill.Rating(mu=57.044, sigma=6.856) 4\n",
      "26 trueskill.Rating(mu=79.443, sigma=8.333) trueskill.Rating(mu=74.010, sigma=7.061) 1\n",
      "27 trueskill.Rating(mu=93.742, sigma=8.333) trueskill.Rating(mu=93.742, sigma=8.334) 1\n",
      "28 trueskill.Rating(mu=64.212, sigma=8.333) trueskill.Rating(mu=50.000, sigma=8.333) 0\n",
      "29 trueskill.Rating(mu=81.012, sigma=8.333) trueskill.Rating(mu=81.044, sigma=8.304) 3\n",
      "30 trueskill.Rating(mu=25.597, sigma=8.333) trueskill.Rating(mu=50.000, sigma=8.333) 0\n",
      "31 trueskill.Rating(mu=42.168, sigma=8.333) trueskill.Rating(mu=42.136, sigma=8.304) 2\n",
      "32 trueskill.Rating(mu=86.293, sigma=8.333) trueskill.Rating(mu=86.293, sigma=8.334) 2\n",
      "33 trueskill.Rating(mu=36.080, sigma=8.333) trueskill.Rating(mu=36.071, sigma=8.324) 2\n",
      "34 trueskill.Rating(mu=35.397, sigma=8.333) trueskill.Rating(mu=33.136, sigma=7.512) 2\n",
      "35 trueskill.Rating(mu=49.898, sigma=8.333) trueskill.Rating(mu=49.539, sigma=8.108) 3\n",
      "36 trueskill.Rating(mu=7.849, sigma=8.333) trueskill.Rating(mu=7.786, sigma=8.280) 2\n",
      "37 trueskill.Rating(mu=90.060, sigma=8.333) trueskill.Rating(mu=93.169, sigma=7.353) 3\n",
      "38 trueskill.Rating(mu=13.515, sigma=8.333) trueskill.Rating(mu=13.515, sigma=8.334) 2\n",
      "39 trueskill.Rating(mu=43.478, sigma=8.333) trueskill.Rating(mu=43.542, sigma=8.280) 3\n",
      "40 trueskill.Rating(mu=18.978, sigma=8.333) trueskill.Rating(mu=19.935, sigma=7.863) 1\n",
      "41 trueskill.Rating(mu=23.709, sigma=8.333) trueskill.Rating(mu=22.561, sigma=7.800) 3\n",
      "42 trueskill.Rating(mu=37.634, sigma=8.333) trueskill.Rating(mu=37.632, sigma=8.332) 2\n",
      "43 trueskill.Rating(mu=84.723, sigma=8.333) trueskill.Rating(mu=84.836, sigma=8.246) 6\n",
      "44 trueskill.Rating(mu=83.795, sigma=8.333) trueskill.Rating(mu=50.000, sigma=8.333) 0\n",
      "45 trueskill.Rating(mu=37.679, sigma=8.333) trueskill.Rating(mu=37.727, sigma=8.292) 1\n",
      "46 trueskill.Rating(mu=18.491, sigma=8.333) trueskill.Rating(mu=18.491, sigma=8.334) 1\n",
      "47 trueskill.Rating(mu=94.384, sigma=8.333) trueskill.Rating(mu=94.386, sigma=8.331) 1\n",
      "48 trueskill.Rating(mu=0.718, sigma=8.333) trueskill.Rating(mu=-0.238, sigma=7.863) 3\n",
      "49 trueskill.Rating(mu=15.920, sigma=8.333) trueskill.Rating(mu=15.920, sigma=8.334) 2\n"
     ]
    }
   ],
   "source": [
    "for k, v in players.items():\n",
    "    print(v.name, v.real, v.fake, v.count)"
   ]
  },
  {
   "cell_type": "code",
   "execution_count": null,
   "metadata": {},
   "outputs": [],
   "source": []
  }
 ],
 "metadata": {
  "kernelspec": {
   "display_name": "Python 3",
   "language": "python",
   "name": "python3"
  },
  "language_info": {
   "codemirror_mode": {
    "name": "ipython",
    "version": 3
   },
   "file_extension": ".py",
   "mimetype": "text/x-python",
   "name": "python",
   "nbconvert_exporter": "python",
   "pygments_lexer": "ipython3",
   "version": "3.7.7"
  }
 },
 "nbformat": 4,
 "nbformat_minor": 4
}
