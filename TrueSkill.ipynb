{
 "cells": [
  {
   "cell_type": "code",
   "execution_count": 1,
   "metadata": {},
   "outputs": [],
   "source": [
    "# https://trueskill.org/\n"
   ]
  },
  {
   "cell_type": "code",
   "execution_count": 2,
   "metadata": {},
   "outputs": [
    {
     "data": {
      "text/plain": [
       "(trueskill.Rating(mu=25.000, sigma=8.333),\n",
       " trueskill.Rating(mu=33.333, sigma=8.333))"
      ]
     },
     "execution_count": 2,
     "metadata": {},
     "output_type": "execute_result"
    }
   ],
   "source": [
    "from trueskill import Rating, quality_1vs1, rate_1vs1\n",
    "\n",
    "BETA = 8.333  # \n",
    "alice, bob = Rating(25), Rating(25 + BETA)  # assign Alice and Bob's ratings\n",
    "alice, bob"
   ]
  },
  {
   "cell_type": "code",
   "execution_count": 3,
   "metadata": {},
   "outputs": [],
   "source": [
    "def win_probability(greater, lesser):\n",
    "    # # https://github.com/sublee/trueskill/issues/1\n",
    "    exp = (greater.mu - lesser.mu) / BETA\n",
    "    n = 4. ** exp\n",
    "    return n / (n + 1)"
   ]
  },
  {
   "cell_type": "code",
   "execution_count": 4,
   "metadata": {},
   "outputs": [
    {
     "data": {
      "text/plain": [
       "(0.8, 0.20000000000000004)"
      ]
     },
     "execution_count": 4,
     "metadata": {},
     "output_type": "execute_result"
    }
   ],
   "source": [
    "win_probability(bob, alice), win_probability(alice, bob)"
   ]
  },
  {
   "cell_type": "code",
   "execution_count": 5,
   "metadata": {},
   "outputs": [],
   "source": [
    "alice, bob = rate_1vs1(alice, bob)  # param 1 is the winner of the match"
   ]
  },
  {
   "cell_type": "code",
   "execution_count": 6,
   "metadata": {},
   "outputs": [
    {
     "data": {
      "text/plain": [
       "(trueskill.Rating(mu=31.756, sigma=6.952),\n",
       " trueskill.Rating(mu=26.577, sigma=6.952))"
      ]
     },
     "execution_count": 6,
     "metadata": {},
     "output_type": "execute_result"
    }
   ],
   "source": [
    "alice, bob"
   ]
  },
  {
   "cell_type": "markdown",
   "metadata": {},
   "source": [
    "# example\n",
    "how quickly can trueskill ratings converge?"
   ]
  },
  {
   "cell_type": "code",
   "execution_count": 7,
   "metadata": {},
   "outputs": [],
   "source": [
    "import numpy as np\n",
    "from trueskill import Rating, quality_1vs1, rate_1vs1\n",
    "\n",
    "BETA = 8.333\n",
    "\n",
    "def win_probability(greater, lesser):\n",
    "    # # https://github.com/sublee/trueskill/issues/1\n",
    "    exp = (greater.mu - lesser.mu) / BETA\n",
    "    n = 4. ** exp\n",
    "    return n / (n + 1)"
   ]
  },
  {
   "cell_type": "code",
   "execution_count": 8,
   "metadata": {},
   "outputs": [],
   "source": [
    "class Player(object):\n",
    "    def __init__(self, name, mu):\n",
    "        self.name = name\n",
    "        self.real = Rating(mu)\n",
    "        self.fake = Rating(50)  # everyone starts off with the mean rating\n",
    "        self.count = 0"
   ]
  },
  {
   "cell_type": "code",
   "execution_count": 9,
   "metadata": {},
   "outputs": [
    {
     "name": "stdout",
     "output_type": "stream",
     "text": [
      "0 trueskill.Rating(mu=2.805, sigma=8.333) trueskill.Rating(mu=50.000, sigma=8.333)\n",
      "1 trueskill.Rating(mu=47.908, sigma=8.333) trueskill.Rating(mu=50.000, sigma=8.333)\n",
      "2 trueskill.Rating(mu=36.483, sigma=8.333) trueskill.Rating(mu=50.000, sigma=8.333)\n",
      "3 trueskill.Rating(mu=89.872, sigma=8.333) trueskill.Rating(mu=50.000, sigma=8.333)\n",
      "4 trueskill.Rating(mu=80.435, sigma=8.333) trueskill.Rating(mu=50.000, sigma=8.333)\n",
      "5 trueskill.Rating(mu=80.530, sigma=8.333) trueskill.Rating(mu=50.000, sigma=8.333)\n",
      "6 trueskill.Rating(mu=16.070, sigma=8.333) trueskill.Rating(mu=50.000, sigma=8.333)\n",
      "7 trueskill.Rating(mu=8.934, sigma=8.333) trueskill.Rating(mu=50.000, sigma=8.333)\n",
      "8 trueskill.Rating(mu=55.660, sigma=8.333) trueskill.Rating(mu=50.000, sigma=8.333)\n",
      "9 trueskill.Rating(mu=38.627, sigma=8.333) trueskill.Rating(mu=50.000, sigma=8.333)\n",
      "10 trueskill.Rating(mu=55.297, sigma=8.333) trueskill.Rating(mu=50.000, sigma=8.333)\n",
      "11 trueskill.Rating(mu=92.890, sigma=8.333) trueskill.Rating(mu=50.000, sigma=8.333)\n",
      "12 trueskill.Rating(mu=58.076, sigma=8.333) trueskill.Rating(mu=50.000, sigma=8.333)\n",
      "13 trueskill.Rating(mu=80.705, sigma=8.333) trueskill.Rating(mu=50.000, sigma=8.333)\n",
      "14 trueskill.Rating(mu=73.897, sigma=8.333) trueskill.Rating(mu=50.000, sigma=8.333)\n",
      "15 trueskill.Rating(mu=40.111, sigma=8.333) trueskill.Rating(mu=50.000, sigma=8.333)\n",
      "16 trueskill.Rating(mu=48.791, sigma=8.333) trueskill.Rating(mu=50.000, sigma=8.333)\n",
      "17 trueskill.Rating(mu=60.367, sigma=8.333) trueskill.Rating(mu=50.000, sigma=8.333)\n",
      "18 trueskill.Rating(mu=10.092, sigma=8.333) trueskill.Rating(mu=50.000, sigma=8.333)\n",
      "19 trueskill.Rating(mu=26.183, sigma=8.333) trueskill.Rating(mu=50.000, sigma=8.333)\n",
      "20 trueskill.Rating(mu=61.816, sigma=8.333) trueskill.Rating(mu=50.000, sigma=8.333)\n",
      "21 trueskill.Rating(mu=94.051, sigma=8.333) trueskill.Rating(mu=50.000, sigma=8.333)\n",
      "22 trueskill.Rating(mu=80.567, sigma=8.333) trueskill.Rating(mu=50.000, sigma=8.333)\n",
      "23 trueskill.Rating(mu=3.068, sigma=8.333) trueskill.Rating(mu=50.000, sigma=8.333)\n",
      "24 trueskill.Rating(mu=6.342, sigma=8.333) trueskill.Rating(mu=50.000, sigma=8.333)\n",
      "25 trueskill.Rating(mu=6.399, sigma=8.333) trueskill.Rating(mu=50.000, sigma=8.333)\n",
      "26 trueskill.Rating(mu=53.941, sigma=8.333) trueskill.Rating(mu=50.000, sigma=8.333)\n",
      "27 trueskill.Rating(mu=46.228, sigma=8.333) trueskill.Rating(mu=50.000, sigma=8.333)\n",
      "28 trueskill.Rating(mu=58.908, sigma=8.333) trueskill.Rating(mu=50.000, sigma=8.333)\n",
      "29 trueskill.Rating(mu=2.119, sigma=8.333) trueskill.Rating(mu=50.000, sigma=8.333)\n",
      "30 trueskill.Rating(mu=40.281, sigma=8.333) trueskill.Rating(mu=50.000, sigma=8.333)\n",
      "31 trueskill.Rating(mu=79.074, sigma=8.333) trueskill.Rating(mu=50.000, sigma=8.333)\n",
      "32 trueskill.Rating(mu=55.382, sigma=8.333) trueskill.Rating(mu=50.000, sigma=8.333)\n",
      "33 trueskill.Rating(mu=10.986, sigma=8.333) trueskill.Rating(mu=50.000, sigma=8.333)\n",
      "34 trueskill.Rating(mu=56.956, sigma=8.333) trueskill.Rating(mu=50.000, sigma=8.333)\n",
      "35 trueskill.Rating(mu=36.696, sigma=8.333) trueskill.Rating(mu=50.000, sigma=8.333)\n",
      "36 trueskill.Rating(mu=55.826, sigma=8.333) trueskill.Rating(mu=50.000, sigma=8.333)\n",
      "37 trueskill.Rating(mu=94.668, sigma=8.333) trueskill.Rating(mu=50.000, sigma=8.333)\n",
      "38 trueskill.Rating(mu=80.067, sigma=8.333) trueskill.Rating(mu=50.000, sigma=8.333)\n",
      "39 trueskill.Rating(mu=45.592, sigma=8.333) trueskill.Rating(mu=50.000, sigma=8.333)\n",
      "40 trueskill.Rating(mu=35.586, sigma=8.333) trueskill.Rating(mu=50.000, sigma=8.333)\n",
      "41 trueskill.Rating(mu=47.509, sigma=8.333) trueskill.Rating(mu=50.000, sigma=8.333)\n",
      "42 trueskill.Rating(mu=41.649, sigma=8.333) trueskill.Rating(mu=50.000, sigma=8.333)\n",
      "43 trueskill.Rating(mu=62.302, sigma=8.333) trueskill.Rating(mu=50.000, sigma=8.333)\n",
      "44 trueskill.Rating(mu=88.422, sigma=8.333) trueskill.Rating(mu=50.000, sigma=8.333)\n",
      "45 trueskill.Rating(mu=53.985, sigma=8.333) trueskill.Rating(mu=50.000, sigma=8.333)\n",
      "46 trueskill.Rating(mu=90.308, sigma=8.333) trueskill.Rating(mu=50.000, sigma=8.333)\n",
      "47 trueskill.Rating(mu=72.612, sigma=8.333) trueskill.Rating(mu=50.000, sigma=8.333)\n",
      "48 trueskill.Rating(mu=23.333, sigma=8.333) trueskill.Rating(mu=50.000, sigma=8.333)\n",
      "49 trueskill.Rating(mu=30.744, sigma=8.333) trueskill.Rating(mu=50.000, sigma=8.333)\n"
     ]
    }
   ],
   "source": [
    "# create a pool of players\n",
    "\n",
    "n_players = 50\n",
    "\n",
    "players = {}\n",
    "for i in range(n_players):\n",
    "    m = np.random.uniform(0, 100)\n",
    "    players[i] = Player(name=i, mu=m)\n",
    "\n",
    "for k, v in players.items():\n",
    "    print(v.name, v.real, v.fake)"
   ]
  },
  {
   "cell_type": "code",
   "execution_count": 10,
   "metadata": {},
   "outputs": [],
   "source": [
    "n_iterations = 10\n",
    "\n",
    "for _ in range(50):\n",
    "    a, b = np.random.choice(range(n_players), 2)\n",
    "    p1 = players[a]\n",
    "    p2 = players[b]\n",
    "    \n",
    "    p1.count += 1\n",
    "    p2.count += 1\n",
    "\n",
    "    prob_p1win = win_probability(p1.real, p2.real)\n",
    "\n",
    "    # p1 wins\n",
    "    if np.random.uniform() < prob_p1win:\n",
    "        p1.fake, p2.fake = rate_1vs1(p1.real, p2.real)\n",
    "    else:\n",
    "        p2.fake, p1.fake = rate_1vs1(p2.real, p1.real)"
   ]
  },
  {
   "cell_type": "code",
   "execution_count": 11,
   "metadata": {},
   "outputs": [
    {
     "name": "stdout",
     "output_type": "stream",
     "text": [
      "0 trueskill.Rating(mu=2.805, sigma=8.333) trueskill.Rating(mu=50.000, sigma=8.333) 0\n",
      "1 trueskill.Rating(mu=47.908, sigma=8.333) trueskill.Rating(mu=48.535, sigma=7.988) 2\n",
      "2 trueskill.Rating(mu=36.483, sigma=8.333) trueskill.Rating(mu=36.482, sigma=8.333) 3\n",
      "3 trueskill.Rating(mu=89.872, sigma=8.333) trueskill.Rating(mu=89.872, sigma=8.333) 1\n",
      "4 trueskill.Rating(mu=80.435, sigma=8.333) trueskill.Rating(mu=80.451, sigma=8.318) 5\n",
      "5 trueskill.Rating(mu=80.530, sigma=8.333) trueskill.Rating(mu=80.921, sigma=8.092) 3\n",
      "6 trueskill.Rating(mu=16.070, sigma=8.333) trueskill.Rating(mu=16.070, sigma=8.334) 2\n",
      "7 trueskill.Rating(mu=8.934, sigma=8.333) trueskill.Rating(mu=6.211, sigma=7.421) 1\n",
      "8 trueskill.Rating(mu=55.660, sigma=8.333) trueskill.Rating(mu=58.178, sigma=7.460) 3\n",
      "9 trueskill.Rating(mu=38.627, sigma=8.333) trueskill.Rating(mu=38.749, sigma=8.240) 3\n",
      "10 trueskill.Rating(mu=55.297, sigma=8.333) trueskill.Rating(mu=52.128, sigma=7.343) 2\n",
      "11 trueskill.Rating(mu=92.890, sigma=8.333) trueskill.Rating(mu=88.945, sigma=7.229) 3\n",
      "12 trueskill.Rating(mu=58.076, sigma=8.333) trueskill.Rating(mu=57.954, sigma=8.240) 2\n",
      "13 trueskill.Rating(mu=80.705, sigma=8.333) trueskill.Rating(mu=50.000, sigma=8.333) 0\n",
      "14 trueskill.Rating(mu=73.897, sigma=8.333) trueskill.Rating(mu=74.222, sigma=8.125) 2\n",
      "15 trueskill.Rating(mu=40.111, sigma=8.333) trueskill.Rating(mu=50.000, sigma=8.333) 0\n",
      "16 trueskill.Rating(mu=48.791, sigma=8.333) trueskill.Rating(mu=50.592, sigma=7.618) 2\n",
      "17 trueskill.Rating(mu=60.367, sigma=8.333) trueskill.Rating(mu=63.535, sigma=7.343) 1\n",
      "18 trueskill.Rating(mu=10.092, sigma=8.333) trueskill.Rating(mu=10.088, sigma=8.329) 1\n",
      "19 trueskill.Rating(mu=26.183, sigma=8.333) trueskill.Rating(mu=25.557, sigma=7.988) 4\n",
      "20 trueskill.Rating(mu=61.816, sigma=8.333) trueskill.Rating(mu=65.031, sigma=7.336) 2\n",
      "21 trueskill.Rating(mu=94.051, sigma=8.333) trueskill.Rating(mu=98.608, sigma=7.153) 5\n",
      "22 trueskill.Rating(mu=80.567, sigma=8.333) trueskill.Rating(mu=50.000, sigma=8.333) 0\n",
      "23 trueskill.Rating(mu=3.068, sigma=8.333) trueskill.Rating(mu=3.034, sigma=8.303) 3\n",
      "24 trueskill.Rating(mu=6.342, sigma=8.333) trueskill.Rating(mu=6.341, sigma=8.332) 1\n",
      "25 trueskill.Rating(mu=6.399, sigma=8.333) trueskill.Rating(mu=6.277, sigma=8.240) 2\n",
      "26 trueskill.Rating(mu=53.941, sigma=8.333) trueskill.Rating(mu=53.917, sigma=8.311) 1\n",
      "27 trueskill.Rating(mu=46.228, sigma=8.333) trueskill.Rating(mu=47.523, sigma=7.755) 1\n",
      "28 trueskill.Rating(mu=58.908, sigma=8.333) trueskill.Rating(mu=58.846, sigma=8.281) 1\n",
      "29 trueskill.Rating(mu=2.119, sigma=8.333) trueskill.Rating(mu=2.119, sigma=8.334) 2\n",
      "30 trueskill.Rating(mu=40.281, sigma=8.333) trueskill.Rating(mu=42.531, sigma=7.515) 1\n",
      "31 trueskill.Rating(mu=79.074, sigma=8.333) trueskill.Rating(mu=74.933, sigma=7.203) 4\n",
      "32 trueskill.Rating(mu=55.382, sigma=8.333) trueskill.Rating(mu=54.991, sigma=8.092) 3\n",
      "33 trueskill.Rating(mu=10.986, sigma=8.333) trueskill.Rating(mu=10.908, sigma=8.270) 2\n",
      "34 trueskill.Rating(mu=56.956, sigma=8.333) trueskill.Rating(mu=59.299, sigma=7.495) 4\n",
      "35 trueskill.Rating(mu=36.696, sigma=8.333) trueskill.Rating(mu=36.651, sigma=8.293) 5\n",
      "36 trueskill.Rating(mu=55.826, sigma=8.333) trueskill.Rating(mu=50.000, sigma=8.333) 0\n",
      "37 trueskill.Rating(mu=94.668, sigma=8.333) trueskill.Rating(mu=90.111, sigma=7.153) 3\n",
      "38 trueskill.Rating(mu=80.067, sigma=8.333) trueskill.Rating(mu=84.209, sigma=7.203) 1\n",
      "39 trueskill.Rating(mu=45.592, sigma=8.333) trueskill.Rating(mu=45.670, sigma=8.270) 1\n",
      "40 trueskill.Rating(mu=35.586, sigma=8.333) trueskill.Rating(mu=38.806, sigma=7.335) 3\n",
      "41 trueskill.Rating(mu=47.509, sigma=8.333) trueskill.Rating(mu=44.991, sigma=7.460) 4\n",
      "42 trueskill.Rating(mu=41.649, sigma=8.333) trueskill.Rating(mu=41.683, sigma=8.303) 1\n",
      "43 trueskill.Rating(mu=62.302, sigma=8.333) trueskill.Rating(mu=72.218, sigma=6.781) 2\n",
      "44 trueskill.Rating(mu=88.422, sigma=8.333) trueskill.Rating(mu=88.422, sigma=8.334) 1\n",
      "45 trueskill.Rating(mu=53.985, sigma=8.333) trueskill.Rating(mu=50.000, sigma=8.333) 0\n",
      "46 trueskill.Rating(mu=90.308, sigma=8.333) trueskill.Rating(mu=90.430, sigma=8.240) 2\n",
      "47 trueskill.Rating(mu=72.612, sigma=8.333) trueskill.Rating(mu=71.859, sigma=7.938) 1\n",
      "48 trueskill.Rating(mu=23.333, sigma=8.333) trueskill.Rating(mu=22.012, sigma=7.747) 1\n",
      "49 trueskill.Rating(mu=30.744, sigma=8.333) trueskill.Rating(mu=29.449, sigma=7.755) 3\n"
     ]
    }
   ],
   "source": [
    "for k, v in players.items():\n",
    "    print(v.name, v.real, v.fake, v.count)"
   ]
  },
  {
   "cell_type": "code",
   "execution_count": null,
   "metadata": {},
   "outputs": [],
   "source": []
  }
 ],
 "metadata": {
  "kernelspec": {
   "display_name": "Python 3",
   "language": "python",
   "name": "python3"
  },
  "language_info": {
   "codemirror_mode": {
    "name": "ipython",
    "version": 3
   },
   "file_extension": ".py",
   "mimetype": "text/x-python",
   "name": "python",
   "nbconvert_exporter": "python",
   "pygments_lexer": "ipython3",
   "version": "3.8.3"
  }
 },
 "nbformat": 4,
 "nbformat_minor": 4
}
