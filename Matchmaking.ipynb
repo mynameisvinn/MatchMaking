{
 "cells": [
  {
   "cell_type": "code",
   "execution_count": 1,
   "metadata": {},
   "outputs": [],
   "source": [
    "# https://trueskill.org/\n"
   ]
  },
  {
   "cell_type": "code",
   "execution_count": 2,
   "metadata": {},
   "outputs": [
    {
     "data": {
      "text/plain": [
       "(trueskill.Rating(mu=25.000, sigma=8.333),\n",
       " trueskill.Rating(mu=33.333, sigma=8.333))"
      ]
     },
     "execution_count": 2,
     "metadata": {},
     "output_type": "execute_result"
    }
   ],
   "source": [
    "from trueskill import Rating, quality_1vs1, rate_1vs1\n",
    "\n",
    "BETA = 8.333  # \n",
    "alice, bob = Rating(25), Rating(25 + BETA)  # assign Alice and Bob's ratings\n",
    "alice, bob"
   ]
  },
  {
   "cell_type": "code",
   "execution_count": 3,
   "metadata": {},
   "outputs": [],
   "source": [
    "def win_probability(greater, lesser):\n",
    "    # # https://github.com/sublee/trueskill/issues/1\n",
    "    exp = (greater.mu - lesser.mu) / BETA\n",
    "    n = 4. ** exp\n",
    "    return n / (n + 1)"
   ]
  },
  {
   "cell_type": "code",
   "execution_count": 4,
   "metadata": {},
   "outputs": [
    {
     "data": {
      "text/plain": [
       "(0.8, 0.20000000000000004)"
      ]
     },
     "execution_count": 4,
     "metadata": {},
     "output_type": "execute_result"
    }
   ],
   "source": [
    "win_probability(bob, alice), win_probability(alice, bob)"
   ]
  },
  {
   "cell_type": "code",
   "execution_count": 5,
   "metadata": {},
   "outputs": [],
   "source": [
    "alice, bob = rate_1vs1(alice, bob)  # param 1 is the winner of the match"
   ]
  },
  {
   "cell_type": "code",
   "execution_count": 6,
   "metadata": {},
   "outputs": [
    {
     "data": {
      "text/plain": [
       "(trueskill.Rating(mu=31.756, sigma=6.952),\n",
       " trueskill.Rating(mu=26.577, sigma=6.952))"
      ]
     },
     "execution_count": 6,
     "metadata": {},
     "output_type": "execute_result"
    }
   ],
   "source": [
    "alice, bob"
   ]
  },
  {
   "cell_type": "markdown",
   "metadata": {},
   "source": [
    "# example\n",
    "how quickly can trueskill ratings converge?"
   ]
  },
  {
   "cell_type": "code",
   "execution_count": 44,
   "metadata": {},
   "outputs": [],
   "source": [
    "import numpy as np\n",
    "from trueskill import Rating, quality_1vs1, rate_1vs1\n",
    "from statistics import NormalDist\n",
    "import matplotlib.pyplot as plt\n",
    "%matplotlib inline\n",
    "\n",
    "BETA = 8.333\n",
    "\n",
    "def win_probability(greater, lesser):\n",
    "    # # https://github.com/sublee/trueskill/issues/1\n",
    "    exp = (greater.mu - lesser.mu) / BETA\n",
    "    n = 4. ** exp\n",
    "    return n / (n + 1)"
   ]
  },
  {
   "cell_type": "code",
   "execution_count": 41,
   "metadata": {},
   "outputs": [],
   "source": [
    "class Player(object):\n",
    "    def __init__(self, name, mu):\n",
    "        self.name = name\n",
    "        self.real = Rating(mu)\n",
    "        self.fake = Rating(50)  # everyone starts off with the mean rating\n",
    "        self.count = 0"
   ]
  },
  {
   "cell_type": "code",
   "execution_count": 69,
   "metadata": {},
   "outputs": [
    {
     "name": "stdout",
     "output_type": "stream",
     "text": [
      "0 trueskill.Rating(mu=57.737, sigma=8.333) trueskill.Rating(mu=50.000, sigma=8.333)\n",
      "1 trueskill.Rating(mu=40.001, sigma=8.333) trueskill.Rating(mu=50.000, sigma=8.333)\n",
      "2 trueskill.Rating(mu=37.633, sigma=8.333) trueskill.Rating(mu=50.000, sigma=8.333)\n",
      "3 trueskill.Rating(mu=23.917, sigma=8.333) trueskill.Rating(mu=50.000, sigma=8.333)\n",
      "4 trueskill.Rating(mu=88.493, sigma=8.333) trueskill.Rating(mu=50.000, sigma=8.333)\n",
      "5 trueskill.Rating(mu=86.894, sigma=8.333) trueskill.Rating(mu=50.000, sigma=8.333)\n",
      "6 trueskill.Rating(mu=87.334, sigma=8.333) trueskill.Rating(mu=50.000, sigma=8.333)\n",
      "7 trueskill.Rating(mu=0.166, sigma=8.333) trueskill.Rating(mu=50.000, sigma=8.333)\n",
      "8 trueskill.Rating(mu=30.553, sigma=8.333) trueskill.Rating(mu=50.000, sigma=8.333)\n",
      "9 trueskill.Rating(mu=39.850, sigma=8.333) trueskill.Rating(mu=50.000, sigma=8.333)\n",
      "10 trueskill.Rating(mu=92.114, sigma=8.333) trueskill.Rating(mu=50.000, sigma=8.333)\n",
      "11 trueskill.Rating(mu=0.377, sigma=8.333) trueskill.Rating(mu=50.000, sigma=8.333)\n",
      "12 trueskill.Rating(mu=80.818, sigma=8.333) trueskill.Rating(mu=50.000, sigma=8.333)\n",
      "13 trueskill.Rating(mu=88.276, sigma=8.333) trueskill.Rating(mu=50.000, sigma=8.333)\n",
      "14 trueskill.Rating(mu=74.691, sigma=8.333) trueskill.Rating(mu=50.000, sigma=8.333)\n",
      "15 trueskill.Rating(mu=8.877, sigma=8.333) trueskill.Rating(mu=50.000, sigma=8.333)\n",
      "16 trueskill.Rating(mu=37.743, sigma=8.333) trueskill.Rating(mu=50.000, sigma=8.333)\n",
      "17 trueskill.Rating(mu=14.752, sigma=8.333) trueskill.Rating(mu=50.000, sigma=8.333)\n",
      "18 trueskill.Rating(mu=4.151, sigma=8.333) trueskill.Rating(mu=50.000, sigma=8.333)\n",
      "19 trueskill.Rating(mu=57.025, sigma=8.333) trueskill.Rating(mu=50.000, sigma=8.333)\n",
      "similarity 0.2028313151659397\n"
     ]
    }
   ],
   "source": [
    "# create a pool of players\n",
    "\n",
    "n_players = 20\n",
    "\n",
    "players = {}\n",
    "for i in range(n_players):\n",
    "    m = np.random.uniform(0, 100)\n",
    "    players[i] = Player(name=i, mu=m)\n",
    "\n",
    "# https://stackoverflow.com/questions/32551610/overlapping-probability-of-two-normal-distribution-with-scipy\n",
    "average_overlap = []\n",
    "for k, v in players.items():\n",
    "    print(v.name, v.real, v.fake)\n",
    "    average_overlap.append(NormalDist(mu=v.real.mu, sigma=v.real.sigma).overlap(NormalDist(mu=v.fake.mu, sigma=v.fake.sigma)))\n",
    "\n",
    "similarity = np.mean(average_overlap)\n",
    "print(\"similarity\", similarity)"
   ]
  },
  {
   "cell_type": "code",
   "execution_count": 70,
   "metadata": {},
   "outputs": [],
   "source": [
    "n_iterations = 30\n",
    "\n",
    "\n",
    "x = np.linspace(-20, 120, 100)\n",
    "from scipy import stats\n",
    "\n",
    "for iteration in range(n_iterations):\n",
    "    a, b = np.random.choice(range(n_players), 2)\n",
    "    p1 = players[a]\n",
    "    p2 = players[b]\n",
    "    \n",
    "    p1.count += 1\n",
    "    p2.count += 1\n",
    "\n",
    "    prob_p1win = win_probability(p1.real, p2.real)\n",
    "\n",
    "    # p1 wins\n",
    "    if np.random.uniform() < prob_p1win:\n",
    "        p1.fake, p2.fake = rate_1vs1(p1.real, p2.real)\n",
    "    else:\n",
    "        p2.fake, p1.fake = rate_1vs1(p2.real, p1.real)\n"
   ]
  },
  {
   "cell_type": "code",
   "execution_count": 71,
   "metadata": {},
   "outputs": [
    {
     "name": "stdout",
     "output_type": "stream",
     "text": [
      "0 trueskill.Rating(mu=57.737, sigma=8.333) trueskill.Rating(mu=58.506, sigma=7.931)\n",
      "1 trueskill.Rating(mu=40.001, sigma=8.333) trueskill.Rating(mu=40.029, sigma=8.308)\n",
      "2 trueskill.Rating(mu=37.633, sigma=8.333) trueskill.Rating(mu=37.586, sigma=8.292)\n",
      "3 trueskill.Rating(mu=23.917, sigma=8.333) trueskill.Rating(mu=24.394, sigma=8.052)\n",
      "4 trueskill.Rating(mu=88.493, sigma=8.333) trueskill.Rating(mu=88.633, sigma=8.229)\n",
      "5 trueskill.Rating(mu=86.894, sigma=8.333) trueskill.Rating(mu=83.759, sigma=7.349)\n",
      "6 trueskill.Rating(mu=87.334, sigma=8.333) trueskill.Rating(mu=87.334, sigma=8.334)\n",
      "7 trueskill.Rating(mu=0.166, sigma=8.333) trueskill.Rating(mu=-0.004, sigma=8.211)\n",
      "8 trueskill.Rating(mu=30.553, sigma=8.333) trueskill.Rating(mu=30.722, sigma=8.211)\n",
      "9 trueskill.Rating(mu=39.850, sigma=8.333) trueskill.Rating(mu=40.003, sigma=8.221)\n",
      "10 trueskill.Rating(mu=92.114, sigma=8.333) trueskill.Rating(mu=95.249, sigma=7.349)\n",
      "11 trueskill.Rating(mu=0.377, sigma=8.333) trueskill.Rating(mu=0.350, sigma=8.308)\n",
      "12 trueskill.Rating(mu=80.818, sigma=8.333) trueskill.Rating(mu=87.029, sigma=6.993)\n",
      "13 trueskill.Rating(mu=88.276, sigma=8.333) trueskill.Rating(mu=92.728, sigma=7.165)\n",
      "14 trueskill.Rating(mu=74.691, sigma=8.333) trueskill.Rating(mu=74.739, sigma=8.292)\n",
      "15 trueskill.Rating(mu=8.877, sigma=8.333) trueskill.Rating(mu=8.728, sigma=8.223)\n",
      "16 trueskill.Rating(mu=37.743, sigma=8.333) trueskill.Rating(mu=36.894, sigma=7.902)\n",
      "17 trueskill.Rating(mu=14.752, sigma=8.333) trueskill.Rating(mu=14.752, sigma=8.334)\n",
      "18 trueskill.Rating(mu=4.151, sigma=8.333) trueskill.Rating(mu=4.151, sigma=8.334)\n",
      "19 trueskill.Rating(mu=57.025, sigma=8.333) trueskill.Rating(mu=56.885, sigma=8.229)\n",
      "similarity 0.9465316559564529\n"
     ]
    }
   ],
   "source": [
    "average_overlap = []\n",
    "for k, v in players.items():\n",
    "    print(v.name, v.real, v.fake)\n",
    "    average_overlap.append(NormalDist(mu=v.real.mu, sigma=v.real.sigma).overlap(NormalDist(mu=v.fake.mu, sigma=v.fake.sigma)))\n",
    "\n",
    "similarity = np.mean(average_overlap)\n",
    "print(\"similarity\", similarity)"
   ]
  },
  {
   "cell_type": "code",
   "execution_count": null,
   "metadata": {},
   "outputs": [],
   "source": []
  }
 ],
 "metadata": {
  "kernelspec": {
   "display_name": "Python 3",
   "language": "python",
   "name": "python3"
  },
  "language_info": {
   "codemirror_mode": {
    "name": "ipython",
    "version": 3
   },
   "file_extension": ".py",
   "mimetype": "text/x-python",
   "name": "python",
   "nbconvert_exporter": "python",
   "pygments_lexer": "ipython3",
   "version": "3.7.7"
  }
 },
 "nbformat": 4,
 "nbformat_minor": 4
}
