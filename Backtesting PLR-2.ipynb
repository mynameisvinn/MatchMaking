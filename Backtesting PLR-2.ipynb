{
 "cells": [
  {
   "cell_type": "markdown",
   "metadata": {},
   "source": [
    "SELECT winner, loser, __updatetime from CONTESTS \n",
    "WHERE game='madden19'\n",
    "AND type='H'\n",
    "AND status='completed'\n",
    "LIMIT 500;"
   ]
  },
  {
   "cell_type": "code",
   "execution_count": 1,
   "metadata": {},
   "outputs": [],
   "source": [
    "import matplotlib.pyplot as plt\n",
    "plt.style.use('ggplot')\n",
    "%matplotlib inline\n",
    "\n",
    "def moving_average(array, window=3):\n",
    "    \"\"\"\n",
    "    a : array\n",
    "    n : int, size of window\n",
    "    \"\"\"\n",
    "    ret = np.cumsum(array, dtype=float)\n",
    "    ret[window:] = ret[window:] - ret[:-window]\n",
    "    return ret[window - 1:] / window\n",
    "\n",
    "\n",
    "\n",
    "def _update_counter(player):\n",
    "    if player in counter.keys():\n",
    "        counter[player] += 1\n",
    "    else:\n",
    "        counter[player] = 1\n",
    "        \n",
    "class Player(object):\n",
    "    def __init__(self, name):\n",
    "        self.name = name\n",
    "        self.ranking = Rating(np.random.normal(50, 8))\n",
    "        self.count = 0\n",
    "        \n",
    "BETA = 8.333\n",
    "\n",
    "def win_probability(greater, lesser):\n",
    "    # # https://github.com/sublee/trueskill/issues/1\n",
    "    exp = (greater.mu - lesser.mu) / BETA\n",
    "    n = 4. ** exp\n",
    "    return n / (n + 1)\n",
    "\n",
    "from trueskill import Rating, quality_1vs1, rate_1vs1\n",
    "import numpy as np\n",
    "from tqdm import tqdm\n",
    "\n",
    "\n",
    "\n",
    "def population2hist():\n",
    "    count = {}\n",
    "    for k,v in population.items():\n",
    "        if k not in count.keys():\n",
    "            count[k] = 1\n",
    "        else:\n",
    "            count[k] += 1\n",
    "\n",
    "    histogram = {}\n",
    "    for k, v in count.items():\n",
    "        if v in histogram.keys():\n",
    "            histogram[v] += 1\n",
    "        else:\n",
    "            histogram[v] = 1\n",
    "    return histogram\n",
    "\n",
    "def idx2player(idx):\n",
    "    if idx not in population:\n",
    "        population[idx] = Player(idx)\n",
    "    return population[idx]"
   ]
  },
  {
   "cell_type": "code",
   "execution_count": 9,
   "metadata": {},
   "outputs": [],
   "source": []
  },
  {
   "cell_type": "code",
   "execution_count": 10,
   "metadata": {},
   "outputs": [],
   "source": [
    "import pandas as pd\n",
    "import sqlalchemy\n",
    "from sqlalchemy import create_engine\n",
    "\n",
    "POSTGRES_ADDRESS = 'db.panoply.io' ## INSERT YOUR DB ADDRESS IF IT'S NOT ON PANOPLY\n",
    "POSTGRES_PORT = '5439'\n",
    "POSTGRES_USERNAME = 'vin.tang@gmail.com' ## CHANGE THIS TO YOURPANOPLY/POSTGRES USERNAME\n",
    "POSTGRES_PASSWORD = 'Cobalt27!' ## CHANGE THIS TO YOUR PANOPLY/POSTGRES PASSWORD\n",
    "POSTGRES_DBNAME = 'playerslounge_prod' ## CHANGE THIS TO YOUR DATABASE NAME\n",
    "\n",
    "postgres_str = ('postgresql://{username}:{password}@{ipaddress}:{port}/{dbname}'.format(username=POSTGRES_USERNAME,\n",
    "password=POSTGRES_PASSWORD,\n",
    "ipaddress=POSTGRES_ADDRESS,\n",
    "port=POSTGRES_PORT,\n",
    "dbname=POSTGRES_DBNAME))\n",
    "\n",
    "cnx = create_engine(postgres_str)"
   ]
  },
  {
   "cell_type": "code",
   "execution_count": 31,
   "metadata": {},
   "outputs": [],
   "source": [
    "query = \"\"\"SELECT winner, loser, __updatetime from CONTESTS \n",
    "WHERE console_game='ps4-madden21' and type='H' and status='completed'\n",
    "ORDER by __updatetime ASC;\"\"\""
   ]
  },
  {
   "cell_type": "code",
   "execution_count": 32,
   "metadata": {},
   "outputs": [
    {
     "data": {
      "text/plain": [
       "(142086, 3)"
      ]
     },
     "execution_count": 32,
     "metadata": {},
     "output_type": "execute_result"
    }
   ],
   "source": [
    "df = pd.read_sql_query(query, cnx)\n",
    "df.shape"
   ]
  },
  {
   "cell_type": "code",
   "execution_count": 17,
   "metadata": {},
   "outputs": [
    {
     "data": {
      "text/html": [
       "<div>\n",
       "<style scoped>\n",
       "    .dataframe tbody tr th:only-of-type {\n",
       "        vertical-align: middle;\n",
       "    }\n",
       "\n",
       "    .dataframe tbody tr th {\n",
       "        vertical-align: top;\n",
       "    }\n",
       "\n",
       "    .dataframe thead th {\n",
       "        text-align: right;\n",
       "    }\n",
       "</style>\n",
       "<table border=\"1\" class=\"dataframe\">\n",
       "  <thead>\n",
       "    <tr style=\"text-align: right;\">\n",
       "      <th></th>\n",
       "      <th>winner</th>\n",
       "      <th>loser</th>\n",
       "      <th>__updatetime</th>\n",
       "    </tr>\n",
       "  </thead>\n",
       "  <tbody>\n",
       "    <tr>\n",
       "      <th>0</th>\n",
       "      <td>443992607815436</td>\n",
       "      <td>7038695774196162</td>\n",
       "      <td>2020-08-21 19:15:34.342</td>\n",
       "    </tr>\n",
       "    <tr>\n",
       "      <th>1</th>\n",
       "      <td>4460130662083057</td>\n",
       "      <td>2440478575721950</td>\n",
       "      <td>2020-08-21 19:15:34.342</td>\n",
       "    </tr>\n",
       "    <tr>\n",
       "      <th>2</th>\n",
       "      <td>5441303459712592</td>\n",
       "      <td>4500624820594460</td>\n",
       "      <td>2020-08-21 20:10:45.923</td>\n",
       "    </tr>\n",
       "    <tr>\n",
       "      <th>3</th>\n",
       "      <td>1830401092194768</td>\n",
       "      <td>5564384449600533</td>\n",
       "      <td>2020-08-21 20:10:45.923</td>\n",
       "    </tr>\n",
       "    <tr>\n",
       "      <th>4</th>\n",
       "      <td>7893767988794126</td>\n",
       "      <td>6613300821617026</td>\n",
       "      <td>2020-08-21 20:10:45.923</td>\n",
       "    </tr>\n",
       "  </tbody>\n",
       "</table>\n",
       "</div>"
      ],
      "text/plain": [
       "             winner             loser            __updatetime\n",
       "0   443992607815436  7038695774196162 2020-08-21 19:15:34.342\n",
       "1  4460130662083057  2440478575721950 2020-08-21 19:15:34.342\n",
       "2  5441303459712592  4500624820594460 2020-08-21 20:10:45.923\n",
       "3  1830401092194768  5564384449600533 2020-08-21 20:10:45.923\n",
       "4  7893767988794126  6613300821617026 2020-08-21 20:10:45.923"
      ]
     },
     "execution_count": 17,
     "metadata": {},
     "output_type": "execute_result"
    }
   ],
   "source": [
    "df.head()"
   ]
  },
  {
   "cell_type": "code",
   "execution_count": 81,
   "metadata": {},
   "outputs": [
    {
     "name": "stderr",
     "output_type": "stream",
     "text": [
      "28185it [00:10, 2574.94it/s]\n"
     ]
    }
   ],
   "source": [
    "population = {}\n",
    "history = []\n",
    "\n",
    "for i, row in tqdm(df.iterrows()):\n",
    "    \n",
    "    # check if winner exists and return P\n",
    "    p1 = idx2player(row['winner'])\n",
    "    p2 = idx2player(row['loser'])\n",
    "    \n",
    "    p1.count += 1\n",
    "    p2.count += 1\n",
    "            \n",
    "    # generate prediction based on trueskill - where we correct?\n",
    "    # prob = win_probability(p1.ranking, p2.ranking)  # winning probability for p1\n",
    "    # pred = np.random.uniform() < prob\n",
    "    pred = p1.ranking.mu > p2.ranking.mu\n",
    "    history.append(int(pred))\n",
    "    \n",
    "    # update players \n",
    "    p1.ranking, p2.ranking = rate_1vs1(p1.ranking, p2.ranking)"
   ]
  },
  {
   "cell_type": "code",
   "execution_count": 82,
   "metadata": {},
   "outputs": [
    {
     "data": {
      "text/plain": [
       "Text(0, 0.5, 'Prediction Accuracy')"
      ]
     },
     "execution_count": 82,
     "metadata": {},
     "output_type": "execute_result"
    },
    {
     "data": {
      "image/png": "[encoded data removed]",
      "text/plain": [
       "<Figure size 432x288 with 1 Axes>"
      ]
     },
     "metadata": {
      "needs_background": "light"
     },
     "output_type": "display_data"
    }
   ],
   "source": [
    "d = moving_average(history, window=int(len(history)/10))\n",
    "plt.plot(d)\n",
    "plt.ylim(.55, .7)\n",
    "\n",
    "plt.title(\"Predicting Outcomes for ps4-madden21\")\n",
    "plt.xlabel(\"Games Played\")\n",
    "plt.ylabel(\"Prediction Accuracy\")"
   ]
  },
  {
   "cell_type": "code",
   "execution_count": 87,
   "metadata": {},
   "outputs": [
    {
     "data": {
      "text/plain": [
       "<a list of 10 Patch objects>"
      ]
     },
     "execution_count": 87,
     "metadata": {},
     "output_type": "execute_result"
    },
    {
     "data": {
      "image/png": "[encoded data removed]",
      "text/plain": [
       "<Figure size 432x288 with 1 Axes>"
      ]
     },
     "metadata": {
      "needs_background": "light"
     },
     "output_type": "display_data"
    }
   ],
   "source": [
    "plt.title('Distribution of Ratings')\n",
    "plt.hist(list(map(lambda x: x.ranking.mu, population.values())))[2]"
   ]
  },
  {
   "cell_type": "code",
   "execution_count": null,
   "metadata": {},
   "outputs": [],
   "source": []
  }
 ],
 "metadata": {
  "kernelspec": {
   "display_name": "Python 3",
   "language": "python",
   "name": "python3"
  },
  "language_info": {
   "codemirror_mode": {
    "name": "ipython",
    "version": 3
   },
   "file_extension": ".py",
   "mimetype": "text/x-python",
   "name": "python",
   "nbconvert_exporter": "python",
   "pygments_lexer": "ipython3",
   "version": "3.7.7"
  }
 },
 "nbformat": 4,
 "nbformat_minor": 4
}
