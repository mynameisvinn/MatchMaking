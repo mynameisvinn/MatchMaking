{
 "cells": [
  {
   "cell_type": "code",
   "execution_count": 1,
   "metadata": {},
   "outputs": [],
   "source": [
    "from db import fetch\n",
    "from tqdm import tqdm"
   ]
  },
  {
   "cell_type": "code",
   "execution_count": 118,
   "metadata": {},
   "outputs": [],
   "source": [
    "query = \"\"\"\n",
    "SELECT id, __updatetime, type, winner, loser, status\n",
    "\n",
    "FROM contests\n",
    "\n",
    "WHERE type = 'H' and status = 'completed'\n",
    "\n",
    "LIMIT 10000\n",
    "\"\"\""
   ]
  },
  {
   "cell_type": "code",
   "execution_count": 119,
   "metadata": {},
   "outputs": [
    {
     "data": {
      "text/plain": [
       "(10000, 6)"
      ]
     },
     "execution_count": 119,
     "metadata": {},
     "output_type": "execute_result"
    }
   ],
   "source": [
    "df = fetch(query)\n",
    "df.shape"
   ]
  },
  {
   "cell_type": "code",
   "execution_count": 120,
   "metadata": {},
   "outputs": [
    {
     "data": {
      "text/html": [
       "<div>\n",
       "<style scoped>\n",
       "    .dataframe tbody tr th:only-of-type {\n",
       "        vertical-align: middle;\n",
       "    }\n",
       "\n",
       "    .dataframe tbody tr th {\n",
       "        vertical-align: top;\n",
       "    }\n",
       "\n",
       "    .dataframe thead th {\n",
       "        text-align: right;\n",
       "    }\n",
       "</style>\n",
       "<table border=\"1\" class=\"dataframe\">\n",
       "  <thead>\n",
       "    <tr style=\"text-align: right;\">\n",
       "      <th></th>\n",
       "      <th>id</th>\n",
       "      <th>__updatetime</th>\n",
       "      <th>type</th>\n",
       "      <th>winner</th>\n",
       "      <th>loser</th>\n",
       "      <th>status</th>\n",
       "    </tr>\n",
       "  </thead>\n",
       "  <tbody>\n",
       "    <tr>\n",
       "      <th>0</th>\n",
       "      <td>10003088776399</td>\n",
       "      <td>2019-03-09 11:20:52.349</td>\n",
       "      <td>H</td>\n",
       "      <td>6.397517e+15</td>\n",
       "      <td>1.677400e+15</td>\n",
       "      <td>completed</td>\n",
       "    </tr>\n",
       "    <tr>\n",
       "      <th>1</th>\n",
       "      <td>1000607187102953</td>\n",
       "      <td>2019-03-08 11:20:41.036</td>\n",
       "      <td>H</td>\n",
       "      <td>7.215143e+15</td>\n",
       "      <td>4.486515e+15</td>\n",
       "      <td>completed</td>\n",
       "    </tr>\n",
       "    <tr>\n",
       "      <th>2</th>\n",
       "      <td>100070134290293</td>\n",
       "      <td>2019-03-08 11:15:44.029</td>\n",
       "      <td>H</td>\n",
       "      <td>5.188046e+15</td>\n",
       "      <td>4.936061e+15</td>\n",
       "      <td>completed</td>\n",
       "    </tr>\n",
       "    <tr>\n",
       "      <th>3</th>\n",
       "      <td>1000750612771762</td>\n",
       "      <td>2019-03-08 11:20:41.036</td>\n",
       "      <td>H</td>\n",
       "      <td>8.922595e+15</td>\n",
       "      <td>2.854242e+15</td>\n",
       "      <td>completed</td>\n",
       "    </tr>\n",
       "    <tr>\n",
       "      <th>4</th>\n",
       "      <td>1000839704742657</td>\n",
       "      <td>2019-03-08 11:20:41.036</td>\n",
       "      <td>H</td>\n",
       "      <td>6.518224e+15</td>\n",
       "      <td>6.638050e+15</td>\n",
       "      <td>completed</td>\n",
       "    </tr>\n",
       "  </tbody>\n",
       "</table>\n",
       "</div>"
      ],
      "text/plain": [
       "                 id            __updatetime type        winner         loser  \\\n",
       "0    10003088776399 2019-03-09 11:20:52.349    H  6.397517e+15  1.677400e+15   \n",
       "1  1000607187102953 2019-03-08 11:20:41.036    H  7.215143e+15  4.486515e+15   \n",
       "2   100070134290293 2019-03-08 11:15:44.029    H  5.188046e+15  4.936061e+15   \n",
       "3  1000750612771762 2019-03-08 11:20:41.036    H  8.922595e+15  2.854242e+15   \n",
       "4  1000839704742657 2019-03-08 11:20:41.036    H  6.518224e+15  6.638050e+15   \n",
       "\n",
       "      status  \n",
       "0  completed  \n",
       "1  completed  \n",
       "2  completed  \n",
       "3  completed  \n",
       "4  completed  "
      ]
     },
     "execution_count": 120,
     "metadata": {},
     "output_type": "execute_result"
    }
   ],
   "source": [
    "df.head()"
   ]
  },
  {
   "cell_type": "code",
   "execution_count": 121,
   "metadata": {},
   "outputs": [
    {
     "name": "stderr",
     "output_type": "stream",
     "text": [
      "10000it [00:01, 6435.18it/s]\n"
     ]
    }
   ],
   "source": [
    "lookup = {}\n",
    "\n",
    "for _, row in tqdm(df.iterrows()):\n",
    "    w = row['winner'] \n",
    "    l = row['loser']\n",
    "    t = row['__updatetime']\n",
    "    \n",
    "    if w in lookup.keys():\n",
    "        lookup[w].append((t, \"W\"))\n",
    "    else:\n",
    "        lookup[w] = [(t, \"W\")]\n",
    "    \n",
    "    if l in lookup.keys():\n",
    "        lookup[l].append((t, \"L\"))\n",
    "    else:\n",
    "        lookup[l] = [(t, \"L\")]"
   ]
  },
  {
   "cell_type": "code",
   "execution_count": 122,
   "metadata": {},
   "outputs": [],
   "source": [
    "query = \"\"\"\n",
    "select userid, amt, __updatetime from transactions\n",
    "\n",
    "WHERE contest_type = 'contest' and type = 'S'\n",
    "\n",
    "LIMIT 10000\n",
    "\"\"\""
   ]
  },
  {
   "cell_type": "code",
   "execution_count": 123,
   "metadata": {},
   "outputs": [
    {
     "data": {
      "text/plain": [
       "(10000, 3)"
      ]
     },
     "execution_count": 123,
     "metadata": {},
     "output_type": "execute_result"
    }
   ],
   "source": [
    "df = fetch(query)\n",
    "df.shape"
   ]
  },
  {
   "cell_type": "code",
   "execution_count": 124,
   "metadata": {},
   "outputs": [
    {
     "data": {
      "text/html": [
       "<div>\n",
       "<style scoped>\n",
       "    .dataframe tbody tr th:only-of-type {\n",
       "        vertical-align: middle;\n",
       "    }\n",
       "\n",
       "    .dataframe tbody tr th {\n",
       "        vertical-align: top;\n",
       "    }\n",
       "\n",
       "    .dataframe thead th {\n",
       "        text-align: right;\n",
       "    }\n",
       "</style>\n",
       "<table border=\"1\" class=\"dataframe\">\n",
       "  <thead>\n",
       "    <tr style=\"text-align: right;\">\n",
       "      <th></th>\n",
       "      <th>userid</th>\n",
       "      <th>amt</th>\n",
       "      <th>__updatetime</th>\n",
       "    </tr>\n",
       "  </thead>\n",
       "  <tbody>\n",
       "    <tr>\n",
       "      <th>0</th>\n",
       "      <td>2571710851091570</td>\n",
       "      <td>20.0</td>\n",
       "      <td>2019-03-05 11:13:39.968</td>\n",
       "    </tr>\n",
       "    <tr>\n",
       "      <th>1</th>\n",
       "      <td>6527839797482430</td>\n",
       "      <td>1.0</td>\n",
       "      <td>2019-02-26 11:09:37.169</td>\n",
       "    </tr>\n",
       "    <tr>\n",
       "      <th>2</th>\n",
       "      <td>1836563405302799</td>\n",
       "      <td>1.0</td>\n",
       "      <td>2019-01-11 21:40:59.522</td>\n",
       "    </tr>\n",
       "    <tr>\n",
       "      <th>3</th>\n",
       "      <td>1122443791606407</td>\n",
       "      <td>5.0</td>\n",
       "      <td>2019-01-11 21:40:59.522</td>\n",
       "    </tr>\n",
       "    <tr>\n",
       "      <th>4</th>\n",
       "      <td>3563729386247051</td>\n",
       "      <td>2.5</td>\n",
       "      <td>2019-01-11 21:40:59.522</td>\n",
       "    </tr>\n",
       "  </tbody>\n",
       "</table>\n",
       "</div>"
      ],
      "text/plain": [
       "             userid   amt            __updatetime\n",
       "0  2571710851091570  20.0 2019-03-05 11:13:39.968\n",
       "1  6527839797482430   1.0 2019-02-26 11:09:37.169\n",
       "2  1836563405302799   1.0 2019-01-11 21:40:59.522\n",
       "3  1122443791606407   5.0 2019-01-11 21:40:59.522\n",
       "4  3563729386247051   2.5 2019-01-11 21:40:59.522"
      ]
     },
     "execution_count": 124,
     "metadata": {},
     "output_type": "execute_result"
    }
   ],
   "source": [
    "df.head()"
   ]
  },
  {
   "cell_type": "code",
   "execution_count": 125,
   "metadata": {},
   "outputs": [
    {
     "name": "stderr",
     "output_type": "stream",
     "text": [
      "10000it [00:01, 9488.54it/s]\n"
     ]
    }
   ],
   "source": [
    "users_with_deposit = []\n",
    "\n",
    "for _, row in tqdm(df.iterrows()):\n",
    "    u = row['userid']\n",
    "    a = row['amt']\n",
    "    t = row['__updatetime']\n",
    "    \n",
    "    if u in lookup.keys():\n",
    "        users_with_deposit.append(u)\n",
    "        lookup[u].append((t, a))"
   ]
  },
  {
   "cell_type": "code",
   "execution_count": 126,
   "metadata": {},
   "outputs": [],
   "source": [
    "# sort games by timestamp\n",
    "for k, v in lookup.items():\n",
    "    lookup[k] = sorted(v, key=lambda x: x[0])"
   ]
  },
  {
   "cell_type": "code",
   "execution_count": 127,
   "metadata": {},
   "outputs": [],
   "source": [
    "# remove timespace\n",
    "for k, v in lookup.items():\n",
    "    lookup[k] = list(map(lambda x: x[1], v))"
   ]
  },
  {
   "cell_type": "code",
   "execution_count": 137,
   "metadata": {},
   "outputs": [
    {
     "name": "stdout",
     "output_type": "stream",
     "text": [
      "[4.0, 'W', 1.0]\n",
      "[1.0, 'L', 'W', 'L', 2.5]\n",
      "[1.0, 'L', 'W', 'L', 2.5]\n",
      "[10.0, 'W', 'W', 1.0]\n",
      "[1.0, 'L', 'L', 'W', 1.0]\n",
      "[1.0, 'L', 'L', 10.0]\n",
      "[5.0, 'L', 'W', 'W', 1.0]\n",
      "[1.0, 'L', 'L', 1.0]\n",
      "[10.0, 'W', 'W', 1.0]\n",
      "[1.0, 'L', 'L', 1.0]\n",
      "[1.0, 'L', 'L', 'W', 1.0]\n",
      "[1.0, 'L', 'L', 10.0]\n",
      "[4.0, 'W', 1.0]\n",
      "[5.0, 'L', 'W', 'W', 1.0]\n"
     ]
    }
   ],
   "source": [
    "for u in users_with_deposit:\n",
    "    record = lookup[u]\n",
    "    if (1.0 in record):\n",
    "        if check(record) and len(record) < 6:\n",
    "            print(record)"
   ]
  },
  {
   "cell_type": "code",
   "execution_count": 136,
   "metadata": {},
   "outputs": [],
   "source": [
    "def check(seq):\n",
    "    desired_sequence = [float, str, float]\n",
    "    \n",
    "    for s in seq:\n",
    "        if len(desired_sequence) == 0:\n",
    "            return True\n",
    "        \n",
    "        t = desired_sequence[0]\n",
    "        if isinstance(s, t):\n",
    "            desired_sequence.pop(0)\n",
    "    return len(desired_sequence) == 0"
   ]
  },
  {
   "cell_type": "code",
   "execution_count": null,
   "metadata": {},
   "outputs": [],
   "source": []
  }
 ],
 "metadata": {
  "kernelspec": {
   "display_name": "Python 3",
   "language": "python",
   "name": "python3"
  },
  "language_info": {
   "codemirror_mode": {
    "name": "ipython",
    "version": 3
   },
   "file_extension": ".py",
   "mimetype": "text/x-python",
   "name": "python",
   "nbconvert_exporter": "python",
   "pygments_lexer": "ipython3",
   "version": "3.8.3"
  }
 },
 "nbformat": 4,
 "nbformat_minor": 4
}
