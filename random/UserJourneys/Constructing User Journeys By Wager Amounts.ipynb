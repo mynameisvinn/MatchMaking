{
 "cells": [
  {
   "cell_type": "markdown",
   "metadata": {},
   "source": [
    "# Objective\n",
    "Is there a relationship between wager amounts and win/loss records?"
   ]
  },
  {
   "cell_type": "code",
   "execution_count": null,
   "metadata": {},
   "outputs": [],
   "source": [
    "from db import fetch\n",
    "from tqdm import tqdm"
   ]
  },
  {
   "cell_type": "code",
   "execution_count": null,
   "metadata": {},
   "outputs": [],
   "source": [
    "query = \"\"\"\n",
    "select userid, contestid, matchmaking_settings_amounts.value, contests.winner, contests.__updatetime\n",
    "\n",
    "from matchmaking\n",
    "\n",
    "inner join\n",
    "\n",
    "matchmaking_settings_amounts\n",
    "\n",
    "on matchmaking_settings_amounts.matchmaking_settings_id = matchmaking.id\n",
    "\n",
    "inner join\n",
    "\n",
    "contests\n",
    "\n",
    "on contests.id = matchmaking.contestid\n",
    "\n",
    "LIMIT 10000\n",
    "\"\"\""
   ]
  },
  {
   "cell_type": "code",
   "execution_count": null,
   "metadata": {},
   "outputs": [],
   "source": [
    "df = fetch(query)\n",
    "df.shape"
   ]
  },
  {
   "cell_type": "code",
   "execution_count": null,
   "metadata": {},
   "outputs": [],
   "source": [
    "df.head()"
   ]
  },
  {
   "cell_type": "code",
   "execution_count": null,
   "metadata": {},
   "outputs": [],
   "source": [
    "lookup = {}\n",
    "\n",
    "for _, row in tqdm(df.iterrows()):\n",
    "    u = row['userid'] \n",
    "    v = row['value']\n",
    "    t = row['__updatetime']\n",
    "    w = row['winner']\n",
    "    s = row['userid'] == row['winner']\n",
    "    \n",
    "    \n",
    "    if u in lookup.keys():\n",
    "        if s:\n",
    "            lookup[u].append((t, \"W\", v))\n",
    "        else:\n",
    "            lookup[u].append((t, \"L\", v))\n",
    "    else:\n",
    "        if s:\n",
    "            lookup[u] = [(t, \"W\", v)]\n",
    "        else:\n",
    "            lookup[u] = [(t, \"L\", v)]"
   ]
  },
  {
   "cell_type": "code",
   "execution_count": null,
   "metadata": {},
   "outputs": [],
   "source": [
    "# sort games by timestamp\n",
    "for k, v in lookup.items():\n",
    "    lookup[k] = sorted(v, key=lambda x: x[0])"
   ]
  },
  {
   "cell_type": "code",
   "execution_count": null,
   "metadata": {},
   "outputs": [],
   "source": [
    "# remove timestamp\n",
    "for k, v in lookup.items():\n",
    "    lookup[k] = list(map(lambda x: (x[1] + x[2]), v))"
   ]
  },
  {
   "cell_type": "code",
   "execution_count": null,
   "metadata": {},
   "outputs": [],
   "source": [
    "for k, v in lookup.items():\n",
    "    if len(v) > 3:\n",
    "        print(\"userid {}: record {}\".format(k, v))"
   ]
  },
  {
   "cell_type": "code",
   "execution_count": null,
   "metadata": {},
   "outputs": [],
   "source": []
  }
 ],
 "metadata": {
  "kernelspec": {
   "display_name": "Python 3",
   "language": "python",
   "name": "python3"
  },
  "language_info": {
   "codemirror_mode": {
    "name": "ipython",
    "version": 3
   },
   "file_extension": ".py",
   "mimetype": "text/x-python",
   "name": "python",
   "nbconvert_exporter": "python",
   "pygments_lexer": "ipython3",
   "version": "3.8.3"
  }
 },
 "nbformat": 4,
 "nbformat_minor": 4
}
