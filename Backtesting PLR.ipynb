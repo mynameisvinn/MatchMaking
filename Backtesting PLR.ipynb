{
 "cells": [
  {
   "cell_type": "code",
   "execution_count": 1,
   "metadata": {},
   "outputs": [],
   "source": [
    "import pandas as pd\n",
    "import sqlalchemy\n",
    "from sqlalchemy import create_engine\n",
    "from tqdm import tqdm\n",
    "\n",
    "POSTGRES_ADDRESS = 'db.panoply.io' ## INSERT YOUR DB ADDRESS IF IT'S NOT ON PANOPLY\n",
    "POSTGRES_PORT = '5439'\n",
    "POSTGRES_USERNAME = 'vin.tang@gmail.com' ## CHANGE THIS TO YOURPANOPLY/POSTGRES USERNAME\n",
    "POSTGRES_PASSWORD = 'Cobalt27!' ## CHANGE THIS TO YOUR PANOPLY/POSTGRES PASSWORD\n",
    "POSTGRES_DBNAME = 'playerslounge_prod' ## CHANGE THIS TO YOUR DATABASE NAME\n",
    "\n",
    "postgres_str = ('postgresql://{username}:{password}@{ipaddress}:{port}/{dbname}'.format(username=POSTGRES_USERNAME,\n",
    "password=POSTGRES_PASSWORD,\n",
    "ipaddress=POSTGRES_ADDRESS,\n",
    "port=POSTGRES_PORT,\n",
    "dbname=POSTGRES_DBNAME))\n",
    "\n",
    "cnx = create_engine(postgres_str)"
   ]
  },
  {
   "cell_type": "code",
   "execution_count": 2,
   "metadata": {},
   "outputs": [],
   "source": [
    "query = \"\"\"\n",
    "select contests.id, contests.__updatetime, contests.type, contests_plrsbefore.plr, contests.winner, contests.loser, contests_plrsbefore.userid, contests.status\n",
    "from contests \n",
    "inner join contests_plrsbefore \n",
    "on contests.id = contests_plrsbefore.contests_id\n",
    "where contests.console_game = 'ps4-madden21'\n",
    "\"\"\""
   ]
  },
  {
   "cell_type": "code",
   "execution_count": 3,
   "metadata": {},
   "outputs": [
    {
     "data": {
      "text/plain": [
       "(329532, 8)"
      ]
     },
     "execution_count": 3,
     "metadata": {},
     "output_type": "execute_result"
    }
   ],
   "source": [
    "df = pd.read_sql_query(query, cnx)\n",
    "df.shape"
   ]
  },
  {
   "cell_type": "code",
   "execution_count": 4,
   "metadata": {},
   "outputs": [
    {
     "data": {
      "text/html": [
       "<div>\n",
       "<style scoped>\n",
       "    .dataframe tbody tr th:only-of-type {\n",
       "        vertical-align: middle;\n",
       "    }\n",
       "\n",
       "    .dataframe tbody tr th {\n",
       "        vertical-align: top;\n",
       "    }\n",
       "\n",
       "    .dataframe thead th {\n",
       "        text-align: right;\n",
       "    }\n",
       "</style>\n",
       "<table border=\"1\" class=\"dataframe\">\n",
       "  <thead>\n",
       "    <tr style=\"text-align: right;\">\n",
       "      <th></th>\n",
       "      <th>id</th>\n",
       "      <th>__updatetime</th>\n",
       "      <th>type</th>\n",
       "      <th>plr</th>\n",
       "      <th>winner</th>\n",
       "      <th>loser</th>\n",
       "      <th>userid</th>\n",
       "      <th>status</th>\n",
       "    </tr>\n",
       "  </thead>\n",
       "  <tbody>\n",
       "    <tr>\n",
       "      <th>0</th>\n",
       "      <td>7995092012829590</td>\n",
       "      <td>2020-08-21 19:15:34.342</td>\n",
       "      <td>H</td>\n",
       "      <td>61</td>\n",
       "      <td>4.439926e+14</td>\n",
       "      <td>7.038696e+15</td>\n",
       "      <td>7038695774196162</td>\n",
       "      <td>completed</td>\n",
       "    </tr>\n",
       "    <tr>\n",
       "      <th>1</th>\n",
       "      <td>5179645355963421</td>\n",
       "      <td>2020-08-21 20:10:45.923</td>\n",
       "      <td>H</td>\n",
       "      <td>54</td>\n",
       "      <td>7.893768e+15</td>\n",
       "      <td>6.613301e+15</td>\n",
       "      <td>7893767988794126</td>\n",
       "      <td>completed</td>\n",
       "    </tr>\n",
       "    <tr>\n",
       "      <th>2</th>\n",
       "      <td>5484846488566522</td>\n",
       "      <td>2020-08-21 20:10:45.923</td>\n",
       "      <td>H</td>\n",
       "      <td>67</td>\n",
       "      <td>NaN</td>\n",
       "      <td>NaN</td>\n",
       "      <td>8732438145053741</td>\n",
       "      <td>cancelled</td>\n",
       "    </tr>\n",
       "    <tr>\n",
       "      <th>3</th>\n",
       "      <td>2230477145682123</td>\n",
       "      <td>2020-08-21 21:13:48.940</td>\n",
       "      <td>H</td>\n",
       "      <td>84</td>\n",
       "      <td>NaN</td>\n",
       "      <td>NaN</td>\n",
       "      <td>8829685643037032</td>\n",
       "      <td>cancelled</td>\n",
       "    </tr>\n",
       "    <tr>\n",
       "      <th>4</th>\n",
       "      <td>3214806079020904</td>\n",
       "      <td>2020-08-21 22:19:37.525</td>\n",
       "      <td>H</td>\n",
       "      <td>79</td>\n",
       "      <td>NaN</td>\n",
       "      <td>NaN</td>\n",
       "      <td>8245774821481175</td>\n",
       "      <td>cancelled</td>\n",
       "    </tr>\n",
       "  </tbody>\n",
       "</table>\n",
       "</div>"
      ],
      "text/plain": [
       "                 id            __updatetime type  plr        winner  \\\n",
       "0  7995092012829590 2020-08-21 19:15:34.342    H   61  4.439926e+14   \n",
       "1  5179645355963421 2020-08-21 20:10:45.923    H   54  7.893768e+15   \n",
       "2  5484846488566522 2020-08-21 20:10:45.923    H   67           NaN   \n",
       "3  2230477145682123 2020-08-21 21:13:48.940    H   84           NaN   \n",
       "4  3214806079020904 2020-08-21 22:19:37.525    H   79           NaN   \n",
       "\n",
       "          loser            userid     status  \n",
       "0  7.038696e+15  7038695774196162  completed  \n",
       "1  6.613301e+15  7893767988794126  completed  \n",
       "2           NaN  8732438145053741  cancelled  \n",
       "3           NaN  8829685643037032  cancelled  \n",
       "4           NaN  8245774821481175  cancelled  "
      ]
     },
     "execution_count": 4,
     "metadata": {},
     "output_type": "execute_result"
    }
   ],
   "source": [
    "df.head()"
   ]
  },
  {
   "cell_type": "code",
   "execution_count": 6,
   "metadata": {},
   "outputs": [
    {
     "name": "stderr",
     "output_type": "stream",
     "text": [
      "329532it [00:52, 6284.92it/s]\n"
     ]
    }
   ],
   "source": [
    "lookup = {}\n",
    "\n",
    "for _, row in tqdm(df.iterrows()):\n",
    "    if row['status'] != \"completed\" or row['type'] != 'H':\n",
    "        pass\n",
    "    else:\n",
    "        if row['id'] not in lookup.keys():\n",
    "            if row['userid'] == row['winner']:\n",
    "                lookup[row['id']] = {\"winner\": row['plr']}\n",
    "            else:\n",
    "                lookup[row['id']] = {\"loser\": row['plr']}\n",
    "        else:\n",
    "            if row['userid'] == row['winner']:\n",
    "                lookup[row['id']]['winner'] = row['plr']\n",
    "            else:\n",
    "                lookup[row['id']]['loser'] = row['plr']\n",
    "        lookup[row['id']]['time'] = row['__updatetime']"
   ]
  },
  {
   "cell_type": "code",
   "execution_count": 7,
   "metadata": {},
   "outputs": [],
   "source": [
    "contest = []\n",
    "winner = []\n",
    "loser = []\n",
    "time = []\n",
    "\n",
    "for k, v in lookup.items():\n",
    "    contest.append(k)\n",
    "    winner.append(v['winner'])\n",
    "    loser.append(v['loser'])\n",
    "    time.append(v['time'])"
   ]
  },
  {
   "cell_type": "code",
   "execution_count": 9,
   "metadata": {},
   "outputs": [
    {
     "data": {
      "text/html": [
       "<div>\n",
       "<style scoped>\n",
       "    .dataframe tbody tr th:only-of-type {\n",
       "        vertical-align: middle;\n",
       "    }\n",
       "\n",
       "    .dataframe tbody tr th {\n",
       "        vertical-align: top;\n",
       "    }\n",
       "\n",
       "    .dataframe thead th {\n",
       "        text-align: right;\n",
       "    }\n",
       "</style>\n",
       "<table border=\"1\" class=\"dataframe\">\n",
       "  <thead>\n",
       "    <tr style=\"text-align: right;\">\n",
       "      <th></th>\n",
       "      <th>contest</th>\n",
       "      <th>winner</th>\n",
       "      <th>loser</th>\n",
       "      <th>time</th>\n",
       "    </tr>\n",
       "  </thead>\n",
       "  <tbody>\n",
       "    <tr>\n",
       "      <th>0</th>\n",
       "      <td>7995092012829590</td>\n",
       "      <td>64</td>\n",
       "      <td>61</td>\n",
       "      <td>2020-08-21 19:15:34.342</td>\n",
       "    </tr>\n",
       "    <tr>\n",
       "      <th>1</th>\n",
       "      <td>5179645355963421</td>\n",
       "      <td>54</td>\n",
       "      <td>59</td>\n",
       "      <td>2020-08-21 20:10:45.923</td>\n",
       "    </tr>\n",
       "    <tr>\n",
       "      <th>2</th>\n",
       "      <td>3186990526737690</td>\n",
       "      <td>64</td>\n",
       "      <td>59</td>\n",
       "      <td>2020-08-21 22:19:37.525</td>\n",
       "    </tr>\n",
       "    <tr>\n",
       "      <th>3</th>\n",
       "      <td>6369489012402744</td>\n",
       "      <td>70</td>\n",
       "      <td>62</td>\n",
       "      <td>2020-08-21 22:19:37.525</td>\n",
       "    </tr>\n",
       "    <tr>\n",
       "      <th>4</th>\n",
       "      <td>3091106470863898</td>\n",
       "      <td>71</td>\n",
       "      <td>62</td>\n",
       "      <td>2020-08-21 22:19:37.525</td>\n",
       "    </tr>\n",
       "  </tbody>\n",
       "</table>\n",
       "</div>"
      ],
      "text/plain": [
       "            contest  winner  loser                    time\n",
       "0  7995092012829590      64     61 2020-08-21 19:15:34.342\n",
       "1  5179645355963421      54     59 2020-08-21 20:10:45.923\n",
       "2  3186990526737690      64     59 2020-08-21 22:19:37.525\n",
       "3  6369489012402744      70     62 2020-08-21 22:19:37.525\n",
       "4  3091106470863898      71     62 2020-08-21 22:19:37.525"
      ]
     },
     "execution_count": 9,
     "metadata": {},
     "output_type": "execute_result"
    }
   ],
   "source": [
    "outcomes = {'contest':contest, 'winner':winner, 'loser':loser, 'time':time}\n",
    "data = pd.DataFrame.from_dict(outcomes)\n",
    "data.head()"
   ]
  },
  {
   "cell_type": "code",
   "execution_count": 10,
   "metadata": {},
   "outputs": [],
   "source": [
    "data.to_csv(\"ps4-madden21.csv\")"
   ]
  },
  {
   "cell_type": "code",
   "execution_count": 15,
   "metadata": {},
   "outputs": [],
   "source": [
    "correct = 0\n",
    "count = 0\n",
    "\n",
    "for k, v in lookup.items():\n",
    "    if len(v.keys()) == 3:\n",
    "        count += 1\n",
    "        if v['winner'] >= v['loser']:\n",
    "            correct += 1"
   ]
  },
  {
   "cell_type": "code",
   "execution_count": 16,
   "metadata": {},
   "outputs": [
    {
     "data": {
      "text/plain": [
       "0.6237570322393141"
      ]
     },
     "execution_count": 16,
     "metadata": {},
     "output_type": "execute_result"
    }
   ],
   "source": [
    "correct/ count"
   ]
  },
  {
   "cell_type": "code",
   "execution_count": 17,
   "metadata": {},
   "outputs": [
    {
     "data": {
      "text/plain": [
       "{'loser': 44, 'time': Timestamp('2020-08-21 19:15:34.342000'), 'winner': 74}"
      ]
     },
     "execution_count": 17,
     "metadata": {},
     "output_type": "execute_result"
    }
   ],
   "source": [
    "lookup['5148940047099294']"
   ]
  },
  {
   "cell_type": "code",
   "execution_count": null,
   "metadata": {},
   "outputs": [],
   "source": []
  }
 ],
 "metadata": {
  "kernelspec": {
   "display_name": "Python 3",
   "language": "python",
   "name": "python3"
  },
  "language_info": {
   "codemirror_mode": {
    "name": "ipython",
    "version": 3
   },
   "file_extension": ".py",
   "mimetype": "text/x-python",
   "name": "python",
   "nbconvert_exporter": "python",
   "pygments_lexer": "ipython3",
   "version": "3.8.3"
  }
 },
 "nbformat": 4,
 "nbformat_minor": 4
}
