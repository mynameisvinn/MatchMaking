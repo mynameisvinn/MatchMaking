{
 "cells": [
  {
   "cell_type": "code",
   "execution_count": 1,
   "metadata": {},
   "outputs": [],
   "source": [
    "import pandas as pd\n",
    "import sqlalchemy\n",
    "from sqlalchemy import create_engine\n",
    "from tqdm import tqdm\n",
    "\n",
    "POSTGRES_ADDRESS = 'db.panoply.io' ## INSERT YOUR DB ADDRESS IF IT'S NOT ON PANOPLY\n",
    "POSTGRES_PORT = '5439'\n",
    "POSTGRES_USERNAME = 'vin.tang@gmail.com' ## CHANGE THIS TO YOURPANOPLY/POSTGRES USERNAME\n",
    "POSTGRES_PASSWORD = 'Cobalt27!' ## CHANGE THIS TO YOUR PANOPLY/POSTGRES PASSWORD\n",
    "POSTGRES_DBNAME = 'playerslounge_prod' ## CHANGE THIS TO YOUR DATABASE NAME\n",
    "\n",
    "postgres_str = ('postgresql://{username}:{password}@{ipaddress}:{port}/{dbname}'.format(username=POSTGRES_USERNAME,\n",
    "password=POSTGRES_PASSWORD,\n",
    "ipaddress=POSTGRES_ADDRESS,\n",
    "port=POSTGRES_PORT,\n",
    "dbname=POSTGRES_DBNAME))\n",
    "\n",
    "cnx = create_engine(postgres_str)"
   ]
  },
  {
   "cell_type": "code",
   "execution_count": 18,
   "metadata": {},
   "outputs": [],
   "source": [
    "query = \"\"\"\n",
    "select contests.id, contests.type, contests_plrsbefore.plr, contests.winner, contests.loser, contests_plrsbefore.userid, contests.status\n",
    "from contests \n",
    "inner join contests_plrsbefore \n",
    "on contests.id = contests_plrsbefore.contests_id\n",
    "where contests.console_game = 'ps4-madden21'\n",
    "\"\"\""
   ]
  },
  {
   "cell_type": "code",
   "execution_count": 19,
   "metadata": {},
   "outputs": [
    {
     "data": {
      "text/plain": [
       "(326636, 7)"
      ]
     },
     "execution_count": 19,
     "metadata": {},
     "output_type": "execute_result"
    }
   ],
   "source": [
    "df = pd.read_sql_query(query, cnx)\n",
    "df.shape"
   ]
  },
  {
   "cell_type": "code",
   "execution_count": 20,
   "metadata": {},
   "outputs": [
    {
     "data": {
      "text/html": [
       "<div>\n",
       "<style scoped>\n",
       "    .dataframe tbody tr th:only-of-type {\n",
       "        vertical-align: middle;\n",
       "    }\n",
       "\n",
       "    .dataframe tbody tr th {\n",
       "        vertical-align: top;\n",
       "    }\n",
       "\n",
       "    .dataframe thead th {\n",
       "        text-align: right;\n",
       "    }\n",
       "</style>\n",
       "<table border=\"1\" class=\"dataframe\">\n",
       "  <thead>\n",
       "    <tr style=\"text-align: right;\">\n",
       "      <th></th>\n",
       "      <th>id</th>\n",
       "      <th>type</th>\n",
       "      <th>plr</th>\n",
       "      <th>winner</th>\n",
       "      <th>loser</th>\n",
       "      <th>userid</th>\n",
       "      <th>status</th>\n",
       "    </tr>\n",
       "  </thead>\n",
       "  <tbody>\n",
       "    <tr>\n",
       "      <th>0</th>\n",
       "      <td>7995092012829590</td>\n",
       "      <td>H</td>\n",
       "      <td>61</td>\n",
       "      <td>4.439926e+14</td>\n",
       "      <td>7.038696e+15</td>\n",
       "      <td>7038695774196162</td>\n",
       "      <td>completed</td>\n",
       "    </tr>\n",
       "    <tr>\n",
       "      <th>1</th>\n",
       "      <td>5179645355963421</td>\n",
       "      <td>H</td>\n",
       "      <td>54</td>\n",
       "      <td>7.893768e+15</td>\n",
       "      <td>6.613301e+15</td>\n",
       "      <td>7893767988794126</td>\n",
       "      <td>completed</td>\n",
       "    </tr>\n",
       "    <tr>\n",
       "      <th>2</th>\n",
       "      <td>5484846488566522</td>\n",
       "      <td>H</td>\n",
       "      <td>67</td>\n",
       "      <td>NaN</td>\n",
       "      <td>NaN</td>\n",
       "      <td>8732438145053741</td>\n",
       "      <td>cancelled</td>\n",
       "    </tr>\n",
       "    <tr>\n",
       "      <th>3</th>\n",
       "      <td>2230477145682123</td>\n",
       "      <td>H</td>\n",
       "      <td>84</td>\n",
       "      <td>NaN</td>\n",
       "      <td>NaN</td>\n",
       "      <td>8829685643037032</td>\n",
       "      <td>cancelled</td>\n",
       "    </tr>\n",
       "    <tr>\n",
       "      <th>4</th>\n",
       "      <td>3214806079020904</td>\n",
       "      <td>H</td>\n",
       "      <td>79</td>\n",
       "      <td>NaN</td>\n",
       "      <td>NaN</td>\n",
       "      <td>8245774821481175</td>\n",
       "      <td>cancelled</td>\n",
       "    </tr>\n",
       "  </tbody>\n",
       "</table>\n",
       "</div>"
      ],
      "text/plain": [
       "                 id type  plr        winner         loser            userid  \\\n",
       "0  7995092012829590    H   61  4.439926e+14  7.038696e+15  7038695774196162   \n",
       "1  5179645355963421    H   54  7.893768e+15  6.613301e+15  7893767988794126   \n",
       "2  5484846488566522    H   67           NaN           NaN  8732438145053741   \n",
       "3  2230477145682123    H   84           NaN           NaN  8829685643037032   \n",
       "4  3214806079020904    H   79           NaN           NaN  8245774821481175   \n",
       "\n",
       "      status  \n",
       "0  completed  \n",
       "1  completed  \n",
       "2  cancelled  \n",
       "3  cancelled  \n",
       "4  cancelled  "
      ]
     },
     "execution_count": 20,
     "metadata": {},
     "output_type": "execute_result"
    }
   ],
   "source": [
    "df.head()"
   ]
  },
  {
   "cell_type": "code",
   "execution_count": 33,
   "metadata": {},
   "outputs": [
    {
     "data": {
      "text/html": [
       "<div>\n",
       "<style scoped>\n",
       "    .dataframe tbody tr th:only-of-type {\n",
       "        vertical-align: middle;\n",
       "    }\n",
       "\n",
       "    .dataframe tbody tr th {\n",
       "        vertical-align: top;\n",
       "    }\n",
       "\n",
       "    .dataframe thead th {\n",
       "        text-align: right;\n",
       "    }\n",
       "</style>\n",
       "<table border=\"1\" class=\"dataframe\">\n",
       "  <thead>\n",
       "    <tr style=\"text-align: right;\">\n",
       "      <th></th>\n",
       "      <th>id</th>\n",
       "      <th>type</th>\n",
       "      <th>plr</th>\n",
       "      <th>winner</th>\n",
       "      <th>loser</th>\n",
       "      <th>userid</th>\n",
       "      <th>status</th>\n",
       "    </tr>\n",
       "  </thead>\n",
       "  <tbody>\n",
       "    <tr>\n",
       "      <th>0</th>\n",
       "      <td>7995092012829590</td>\n",
       "      <td>H</td>\n",
       "      <td>61</td>\n",
       "      <td>4.439926e+14</td>\n",
       "      <td>7.038696e+15</td>\n",
       "      <td>7038695774196162</td>\n",
       "      <td>completed</td>\n",
       "    </tr>\n",
       "    <tr>\n",
       "      <th>1</th>\n",
       "      <td>5179645355963421</td>\n",
       "      <td>H</td>\n",
       "      <td>54</td>\n",
       "      <td>7.893768e+15</td>\n",
       "      <td>6.613301e+15</td>\n",
       "      <td>7893767988794126</td>\n",
       "      <td>completed</td>\n",
       "    </tr>\n",
       "    <tr>\n",
       "      <th>2</th>\n",
       "      <td>5484846488566522</td>\n",
       "      <td>H</td>\n",
       "      <td>67</td>\n",
       "      <td>NaN</td>\n",
       "      <td>NaN</td>\n",
       "      <td>8732438145053741</td>\n",
       "      <td>cancelled</td>\n",
       "    </tr>\n",
       "    <tr>\n",
       "      <th>3</th>\n",
       "      <td>2230477145682123</td>\n",
       "      <td>H</td>\n",
       "      <td>84</td>\n",
       "      <td>NaN</td>\n",
       "      <td>NaN</td>\n",
       "      <td>8829685643037032</td>\n",
       "      <td>cancelled</td>\n",
       "    </tr>\n",
       "    <tr>\n",
       "      <th>4</th>\n",
       "      <td>3214806079020904</td>\n",
       "      <td>H</td>\n",
       "      <td>79</td>\n",
       "      <td>NaN</td>\n",
       "      <td>NaN</td>\n",
       "      <td>8245774821481175</td>\n",
       "      <td>cancelled</td>\n",
       "    </tr>\n",
       "    <tr>\n",
       "      <th>...</th>\n",
       "      <td>...</td>\n",
       "      <td>...</td>\n",
       "      <td>...</td>\n",
       "      <td>...</td>\n",
       "      <td>...</td>\n",
       "      <td>...</td>\n",
       "      <td>...</td>\n",
       "    </tr>\n",
       "    <tr>\n",
       "      <th>495</th>\n",
       "      <td>5926991958804494</td>\n",
       "      <td>H</td>\n",
       "      <td>72</td>\n",
       "      <td>5.392097e+13</td>\n",
       "      <td>2.869082e+15</td>\n",
       "      <td>2869081950979950</td>\n",
       "      <td>completed</td>\n",
       "    </tr>\n",
       "    <tr>\n",
       "      <th>496</th>\n",
       "      <td>6223437718902025</td>\n",
       "      <td>H</td>\n",
       "      <td>71</td>\n",
       "      <td>5.872183e+14</td>\n",
       "      <td>1.844049e+15</td>\n",
       "      <td>587218270593278</td>\n",
       "      <td>completed</td>\n",
       "    </tr>\n",
       "    <tr>\n",
       "      <th>497</th>\n",
       "      <td>6282502151617391</td>\n",
       "      <td>H</td>\n",
       "      <td>48</td>\n",
       "      <td>NaN</td>\n",
       "      <td>NaN</td>\n",
       "      <td>8887894137440382</td>\n",
       "      <td>cancelled</td>\n",
       "    </tr>\n",
       "    <tr>\n",
       "      <th>498</th>\n",
       "      <td>7370723217859565</td>\n",
       "      <td>H</td>\n",
       "      <td>63</td>\n",
       "      <td>NaN</td>\n",
       "      <td>NaN</td>\n",
       "      <td>8070627869130113</td>\n",
       "      <td>cancelled</td>\n",
       "    </tr>\n",
       "    <tr>\n",
       "      <th>499</th>\n",
       "      <td>7499413594692747</td>\n",
       "      <td>H</td>\n",
       "      <td>69</td>\n",
       "      <td>8.568607e+15</td>\n",
       "      <td>6.613301e+15</td>\n",
       "      <td>8568607057753044</td>\n",
       "      <td>completed</td>\n",
       "    </tr>\n",
       "  </tbody>\n",
       "</table>\n",
       "<p>500 rows × 7 columns</p>\n",
       "</div>"
      ],
      "text/plain": [
       "                   id type  plr        winner         loser            userid  \\\n",
       "0    7995092012829590    H   61  4.439926e+14  7.038696e+15  7038695774196162   \n",
       "1    5179645355963421    H   54  7.893768e+15  6.613301e+15  7893767988794126   \n",
       "2    5484846488566522    H   67           NaN           NaN  8732438145053741   \n",
       "3    2230477145682123    H   84           NaN           NaN  8829685643037032   \n",
       "4    3214806079020904    H   79           NaN           NaN  8245774821481175   \n",
       "..                ...  ...  ...           ...           ...               ...   \n",
       "495  5926991958804494    H   72  5.392097e+13  2.869082e+15  2869081950979950   \n",
       "496  6223437718902025    H   71  5.872183e+14  1.844049e+15   587218270593278   \n",
       "497  6282502151617391    H   48           NaN           NaN  8887894137440382   \n",
       "498  7370723217859565    H   63           NaN           NaN  8070627869130113   \n",
       "499  7499413594692747    H   69  8.568607e+15  6.613301e+15  8568607057753044   \n",
       "\n",
       "        status  \n",
       "0    completed  \n",
       "1    completed  \n",
       "2    cancelled  \n",
       "3    cancelled  \n",
       "4    cancelled  \n",
       "..         ...  \n",
       "495  completed  \n",
       "496  completed  \n",
       "497  cancelled  \n",
       "498  cancelled  \n",
       "499  completed  \n",
       "\n",
       "[500 rows x 7 columns]"
      ]
     },
     "execution_count": 33,
     "metadata": {},
     "output_type": "execute_result"
    }
   ],
   "source": [
    "df[:500]"
   ]
  },
  {
   "cell_type": "code",
   "execution_count": 41,
   "metadata": {},
   "outputs": [
    {
     "name": "stderr",
     "output_type": "stream",
     "text": [
      "326636it [00:45, 7232.81it/s]\n"
     ]
    }
   ],
   "source": [
    "lookup = {}\n",
    "\n",
    "for _, row in tqdm(df.iterrows()):\n",
    "    if row['status'] != \"completed\" or row['type'] != 'H':\n",
    "        pass\n",
    "    else:\n",
    "        if row['id'] not in lookup.keys():\n",
    "            if row['userid'] == row['winner']:\n",
    "                lookup[row['id']] = {\"winner\": row['plr']}\n",
    "            else:\n",
    "                lookup[row['id']] = {\"loser\": row['plr']}\n",
    "        else:\n",
    "            if row['userid'] == row['winner']:\n",
    "                lookup[row['id']]['winner'] = row['plr']\n",
    "            else:\n",
    "                lookup[row['id']]['loser'] = row['plr']"
   ]
  },
  {
   "cell_type": "code",
   "execution_count": 42,
   "metadata": {},
   "outputs": [],
   "source": [
    "correct = 0\n",
    "count = 0\n",
    "\n",
    "for k, v in lookup.items():\n",
    "    if len(v.keys()) == 2:\n",
    "        count += 1\n",
    "        if v['winner'] >= v['loser']:\n",
    "            correct += 1"
   ]
  },
  {
   "cell_type": "code",
   "execution_count": 43,
   "metadata": {},
   "outputs": [
    {
     "data": {
      "text/plain": [
       "0.6235411617625489"
      ]
     },
     "execution_count": 43,
     "metadata": {},
     "output_type": "execute_result"
    }
   ],
   "source": [
    "correct/ count"
   ]
  },
  {
   "cell_type": "code",
   "execution_count": 45,
   "metadata": {},
   "outputs": [
    {
     "data": {
      "text/plain": [
       "{'winner': 74, 'loser': 44}"
      ]
     },
     "execution_count": 45,
     "metadata": {},
     "output_type": "execute_result"
    }
   ],
   "source": [
    "lookup['5148940047099294']"
   ]
  },
  {
   "cell_type": "code",
   "execution_count": null,
   "metadata": {},
   "outputs": [],
   "source": []
  }
 ],
 "metadata": {
  "kernelspec": {
   "display_name": "Python 3",
   "language": "python",
   "name": "python3"
  },
  "language_info": {
   "codemirror_mode": {
    "name": "ipython",
    "version": 3
   },
   "file_extension": ".py",
   "mimetype": "text/x-python",
   "name": "python",
   "nbconvert_exporter": "python",
   "pygments_lexer": "ipython3",
   "version": "3.8.3"
  }
 },
 "nbformat": 4,
 "nbformat_minor": 4
}
