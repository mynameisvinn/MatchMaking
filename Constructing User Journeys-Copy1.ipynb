{
 "cells": [
  {
   "cell_type": "code",
   "execution_count": 3,
   "metadata": {},
   "outputs": [],
   "source": [
    "from db import fetch\n",
    "from tqdm import tqdm"
   ]
  },
  {
   "cell_type": "code",
   "execution_count": 7,
   "metadata": {},
   "outputs": [],
   "source": [
    "query = \"\"\"\n",
    "SELECT contests.id, contests.__updatetime, contests.type, contests_plrsbefore.plr, contests.winner, contests.loser, contests_plrsbefore.userid, contests.status\n",
    "\n",
    "FROM contests \n",
    "\n",
    "INNER JOIN contests_plrsbefore \n",
    "\n",
    "ON contests_plrsbefore.contests_id = contests.id\n",
    "\n",
    "WHERE contests_plrsbefore.userid = 4767728656212852\n",
    "\"\"\""
   ]
  },
  {
   "cell_type": "code",
   "execution_count": 8,
   "metadata": {},
   "outputs": [
    {
     "data": {
      "text/plain": [
       "(74, 8)"
      ]
     },
     "execution_count": 8,
     "metadata": {},
     "output_type": "execute_result"
    }
   ],
   "source": [
    "df = fetch(query)\n",
    "df.shape"
   ]
  },
  {
   "cell_type": "code",
   "execution_count": 13,
   "metadata": {},
   "outputs": [],
   "source": [
    "user = 4767728656212852"
   ]
  },
  {
   "cell_type": "code",
   "execution_count": 14,
   "metadata": {},
   "outputs": [
    {
     "name": "stderr",
     "output_type": "stream",
     "text": [
      "74it [00:00, 7798.65it/s]\n"
     ]
    }
   ],
   "source": [
    "lookup = {user: []}\n",
    "\n",
    "for _, row in tqdm(df.iterrows()):\n",
    "    if row['status'] != \"completed\" or row['type'] != 'H':\n",
    "        pass\n",
    "    else:\n",
    "        if row['userid'] == row['winner']:\n",
    "            lookup[user].append((row['__updatetime'], 1))\n",
    "        else:\n",
    "            lookup[user].append((row['__updatetime'], 0))"
   ]
  },
  {
   "cell_type": "code",
   "execution_count": 19,
   "metadata": {},
   "outputs": [],
   "source": [
    "query = \"\"\"\n",
    "select amt, __updatetime from transactions \n",
    "where userid = 4767728656212852 and type = 'D'\n",
    "\"\"\""
   ]
  },
  {
   "cell_type": "code",
   "execution_count": 20,
   "metadata": {},
   "outputs": [
    {
     "data": {
      "text/plain": [
       "(2, 2)"
      ]
     },
     "execution_count": 20,
     "metadata": {},
     "output_type": "execute_result"
    }
   ],
   "source": [
    "df = fetch(query)\n",
    "df.shape"
   ]
  },
  {
   "cell_type": "code",
   "execution_count": 21,
   "metadata": {},
   "outputs": [
    {
     "data": {
      "text/html": [
       "<div>\n",
       "<style scoped>\n",
       "    .dataframe tbody tr th:only-of-type {\n",
       "        vertical-align: middle;\n",
       "    }\n",
       "\n",
       "    .dataframe tbody tr th {\n",
       "        vertical-align: top;\n",
       "    }\n",
       "\n",
       "    .dataframe thead th {\n",
       "        text-align: right;\n",
       "    }\n",
       "</style>\n",
       "<table border=\"1\" class=\"dataframe\">\n",
       "  <thead>\n",
       "    <tr style=\"text-align: right;\">\n",
       "      <th></th>\n",
       "      <th>amt</th>\n",
       "      <th>__updatetime</th>\n",
       "    </tr>\n",
       "  </thead>\n",
       "  <tbody>\n",
       "    <tr>\n",
       "      <th>0</th>\n",
       "      <td>30.0</td>\n",
       "      <td>2019-01-22 11:08:47.182</td>\n",
       "    </tr>\n",
       "    <tr>\n",
       "      <th>1</th>\n",
       "      <td>10.0</td>\n",
       "      <td>2019-03-05 11:13:39.968</td>\n",
       "    </tr>\n",
       "  </tbody>\n",
       "</table>\n",
       "</div>"
      ],
      "text/plain": [
       "    amt            __updatetime\n",
       "0  30.0 2019-01-22 11:08:47.182\n",
       "1  10.0 2019-03-05 11:13:39.968"
      ]
     },
     "execution_count": 21,
     "metadata": {},
     "output_type": "execute_result"
    }
   ],
   "source": [
    "df"
   ]
  },
  {
   "cell_type": "code",
   "execution_count": 23,
   "metadata": {},
   "outputs": [
    {
     "name": "stderr",
     "output_type": "stream",
     "text": [
      "2it [00:00, 1633.93it/s]\n"
     ]
    }
   ],
   "source": [
    "for _, row in tqdm(df.iterrows()):\n",
    "    lookup[user].append((row['__updatetime'], row['amt']))"
   ]
  },
  {
   "cell_type": "code",
   "execution_count": 24,
   "metadata": {},
   "outputs": [
    {
     "data": {
      "text/plain": [
       "{4767728656212852: [(Timestamp('2019-03-05 11:11:14.783000'), 0),\n",
       "  (Timestamp('2019-03-08 11:15:44.029000'), 0),\n",
       "  (Timestamp('2019-03-08 11:20:41.036000'), 1),\n",
       "  (Timestamp('2019-03-08 11:33:43.119000'), 1),\n",
       "  (Timestamp('2019-03-08 11:39:32.865000'), 1),\n",
       "  (Timestamp('2019-03-08 11:39:32.865000'), 1),\n",
       "  (Timestamp('2019-03-08 11:56:44.105000'), 1),\n",
       "  (Timestamp('2019-03-08 11:56:44.105000'), 1),\n",
       "  (Timestamp('2019-03-08 12:02:02.697000'), 0),\n",
       "  (Timestamp('2019-03-08 12:02:02.697000'), 1),\n",
       "  (Timestamp('2019-03-08 12:07:37.373000'), 0),\n",
       "  (Timestamp('2019-03-08 12:13:26.753000'), 1),\n",
       "  (Timestamp('2019-03-08 12:13:26.753000'), 1),\n",
       "  (Timestamp('2019-03-08 12:19:40.780000'), 0),\n",
       "  (Timestamp('2019-03-08 12:19:40.780000'), 1),\n",
       "  (Timestamp('2019-03-08 12:25:09.143000'), 1),\n",
       "  (Timestamp('2019-03-08 12:25:09.143000'), 0),\n",
       "  (Timestamp('2019-03-08 12:38:55.133000'), 1),\n",
       "  (Timestamp('2019-03-08 13:04:15.745000'), 1),\n",
       "  (Timestamp('2019-03-09 11:32:49.933000'), 1),\n",
       "  (Timestamp('2019-03-09 11:46:29.046000'), 1),\n",
       "  (Timestamp('2020-01-22 01:06:41.012000'), 0),\n",
       "  (Timestamp('2020-04-02 16:33:30.765000'), 1),\n",
       "  (Timestamp('2020-04-02 16:50:55.464000'), 1),\n",
       "  (Timestamp('2020-04-02 17:12:32.201000'), 1),\n",
       "  (Timestamp('2020-04-02 18:28:43.889000'), 1),\n",
       "  (Timestamp('2020-04-02 18:28:43.889000'), 0),\n",
       "  (Timestamp('2020-04-02 18:31:36.775000'), 0),\n",
       "  (Timestamp('2020-04-02 18:31:36.775000'), 0),\n",
       "  (Timestamp('2020-04-02 18:36:37.084000'), 0),\n",
       "  (Timestamp('2020-04-02 18:39:15.708000'), 0),\n",
       "  (Timestamp('2020-04-02 18:39:15.708000'), 1),\n",
       "  (Timestamp('2019-01-22 11:08:47.182000'), 30.0),\n",
       "  (Timestamp('2019-03-05 11:13:39.968000'), 10.0)]}"
      ]
     },
     "execution_count": 24,
     "metadata": {},
     "output_type": "execute_result"
    }
   ],
   "source": [
    "lookup"
   ]
  },
  {
   "cell_type": "code",
   "execution_count": 25,
   "metadata": {},
   "outputs": [],
   "source": [
    "# sort games by timestamp\n",
    "for k, v in lookup.items():\n",
    "    lookup[k] = sorted(v, key=lambda x: x[0])"
   ]
  },
  {
   "cell_type": "code",
   "execution_count": 26,
   "metadata": {},
   "outputs": [
    {
     "data": {
      "text/plain": [
       "{4767728656212852: [(Timestamp('2019-01-22 11:08:47.182000'), 30.0),\n",
       "  (Timestamp('2019-03-05 11:11:14.783000'), 0),\n",
       "  (Timestamp('2019-03-05 11:13:39.968000'), 10.0),\n",
       "  (Timestamp('2019-03-08 11:15:44.029000'), 0),\n",
       "  (Timestamp('2019-03-08 11:20:41.036000'), 1),\n",
       "  (Timestamp('2019-03-08 11:33:43.119000'), 1),\n",
       "  (Timestamp('2019-03-08 11:39:32.865000'), 1),\n",
       "  (Timestamp('2019-03-08 11:39:32.865000'), 1),\n",
       "  (Timestamp('2019-03-08 11:56:44.105000'), 1),\n",
       "  (Timestamp('2019-03-08 11:56:44.105000'), 1),\n",
       "  (Timestamp('2019-03-08 12:02:02.697000'), 0),\n",
       "  (Timestamp('2019-03-08 12:02:02.697000'), 1),\n",
       "  (Timestamp('2019-03-08 12:07:37.373000'), 0),\n",
       "  (Timestamp('2019-03-08 12:13:26.753000'), 1),\n",
       "  (Timestamp('2019-03-08 12:13:26.753000'), 1),\n",
       "  (Timestamp('2019-03-08 12:19:40.780000'), 0),\n",
       "  (Timestamp('2019-03-08 12:19:40.780000'), 1),\n",
       "  (Timestamp('2019-03-08 12:25:09.143000'), 1),\n",
       "  (Timestamp('2019-03-08 12:25:09.143000'), 0),\n",
       "  (Timestamp('2019-03-08 12:38:55.133000'), 1),\n",
       "  (Timestamp('2019-03-08 13:04:15.745000'), 1),\n",
       "  (Timestamp('2019-03-09 11:32:49.933000'), 1),\n",
       "  (Timestamp('2019-03-09 11:46:29.046000'), 1),\n",
       "  (Timestamp('2020-01-22 01:06:41.012000'), 0),\n",
       "  (Timestamp('2020-04-02 16:33:30.765000'), 1),\n",
       "  (Timestamp('2020-04-02 16:50:55.464000'), 1),\n",
       "  (Timestamp('2020-04-02 17:12:32.201000'), 1),\n",
       "  (Timestamp('2020-04-02 18:28:43.889000'), 1),\n",
       "  (Timestamp('2020-04-02 18:28:43.889000'), 0),\n",
       "  (Timestamp('2020-04-02 18:31:36.775000'), 0),\n",
       "  (Timestamp('2020-04-02 18:31:36.775000'), 0),\n",
       "  (Timestamp('2020-04-02 18:36:37.084000'), 0),\n",
       "  (Timestamp('2020-04-02 18:39:15.708000'), 0),\n",
       "  (Timestamp('2020-04-02 18:39:15.708000'), 1)]}"
      ]
     },
     "execution_count": 26,
     "metadata": {},
     "output_type": "execute_result"
    }
   ],
   "source": [
    "lookup"
   ]
  },
  {
   "cell_type": "code",
   "execution_count": null,
   "metadata": {},
   "outputs": [],
   "source": []
  }
 ],
 "metadata": {
  "kernelspec": {
   "display_name": "Python 3",
   "language": "python",
   "name": "python3"
  }
 },
 "nbformat": 4,
 "nbformat_minor": 4
}
