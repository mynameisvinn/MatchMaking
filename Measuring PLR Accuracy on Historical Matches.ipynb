{
 "cells": [
  {
   "cell_type": "markdown",
   "metadata": {},
   "source": [
    "# Measuring PLR Accuracy on Historical Matches\n",
    "For a given match, PLR is considered correct if the winner of the match has a greater PLR than the loser. "
   ]
  },
  {
   "cell_type": "code",
   "execution_count": 8,
   "metadata": {},
   "outputs": [],
   "source": [
    "from Matcha import calculate_accuracy\n",
    "\n",
    "import pandas as pd"
   ]
  },
  {
   "cell_type": "code",
   "execution_count": 9,
   "metadata": {},
   "outputs": [],
   "source": [
    "games = ['ps4-madden19.csv', 'ps4-madden20.csv', 'ps4-madden21.csv']"
   ]
  },
  {
   "cell_type": "code",
   "execution_count": 11,
   "metadata": {},
   "outputs": [
    {
     "name": "stdout",
     "output_type": "stream",
     "text": [
      "Accuracy for ps4-madden19.csv is 0.6996382891872278\n",
      "Accuracy for ps4-madden20.csv is 0.6388238807924259\n",
      "Accuracy for ps4-madden21.csv is 0.624140153440006\n"
     ]
    }
   ],
   "source": [
    "for game in games:\n",
    "    path = \"datasets/\" + game\n",
    "    df = pd.read_csv(path)\n",
    "    res = calculate_accuracy(df)\n",
    "    print(f\"Accuracy for {game} is {res}\")"
   ]
  }
 ],
 "metadata": {
  "kernelspec": {
   "display_name": "Python 3",
   "language": "python",
   "name": "python3"
  },
  "language_info": {
   "codemirror_mode": {
    "name": "ipython",
    "version": 3
   },
   "file_extension": ".py",
   "mimetype": "text/x-python",
   "name": "python",
   "nbconvert_exporter": "python",
   "pygments_lexer": "ipython3",
   "version": "3.8.3"
  }
 },
 "nbformat": 4,
 "nbformat_minor": 4
}
