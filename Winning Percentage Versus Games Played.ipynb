{
 "cells": [
  {
   "cell_type": "code",
   "execution_count": 34,
   "metadata": {},
   "outputs": [],
   "source": [
    "from db import fetch\n",
    "\n",
    "from tqdm import tqdm\n",
    "import pandas as pd\n",
    "import numpy as np\n",
    "import matplotlib.pyplot as plt\n",
    "\n",
    "plt.style.use(\"ggplot\")\n",
    "%matplotlib inline"
   ]
  },
  {
   "cell_type": "code",
   "execution_count": 18,
   "metadata": {},
   "outputs": [],
   "source": [
    "query = \"\"\"\n",
    "select contests.id, contests.__updatetime, contests.type, contests_plrsbefore.plr, contests.winner, contests.loser, contests_plrsbefore.userid, contests.status\n",
    "from contests \n",
    "inner join contests_plrsbefore \n",
    "on contests.id = contests_plrsbefore.contests_id\n",
    "where contests.console_game = 'ps4-nba21'\n",
    "\"\"\""
   ]
  },
  {
   "cell_type": "code",
   "execution_count": 19,
   "metadata": {},
   "outputs": [
    {
     "data": {
      "text/plain": [
       "(69494, 8)"
      ]
     },
     "execution_count": 19,
     "metadata": {},
     "output_type": "execute_result"
    }
   ],
   "source": [
    "df = fetch(query)\n",
    "df.shape"
   ]
  },
  {
   "cell_type": "code",
   "execution_count": 20,
   "metadata": {},
   "outputs": [
    {
     "data": {
      "text/html": [
       "<div>\n",
       "<style scoped>\n",
       "    .dataframe tbody tr th:only-of-type {\n",
       "        vertical-align: middle;\n",
       "    }\n",
       "\n",
       "    .dataframe tbody tr th {\n",
       "        vertical-align: top;\n",
       "    }\n",
       "\n",
       "    .dataframe thead th {\n",
       "        text-align: right;\n",
       "    }\n",
       "</style>\n",
       "<table border=\"1\" class=\"dataframe\">\n",
       "  <thead>\n",
       "    <tr style=\"text-align: right;\">\n",
       "      <th></th>\n",
       "      <th>id</th>\n",
       "      <th>__updatetime</th>\n",
       "      <th>type</th>\n",
       "      <th>plr</th>\n",
       "      <th>winner</th>\n",
       "      <th>loser</th>\n",
       "      <th>userid</th>\n",
       "      <th>status</th>\n",
       "    </tr>\n",
       "  </thead>\n",
       "  <tbody>\n",
       "    <tr>\n",
       "      <th>0</th>\n",
       "      <td>2243988808407448</td>\n",
       "      <td>2020-09-04 05:12:16.797</td>\n",
       "      <td>H</td>\n",
       "      <td>50</td>\n",
       "      <td>6.210912e+14</td>\n",
       "      <td>3.559349e+15</td>\n",
       "      <td>621091246611789</td>\n",
       "      <td>completed</td>\n",
       "    </tr>\n",
       "    <tr>\n",
       "      <th>1</th>\n",
       "      <td>2156599449300926</td>\n",
       "      <td>2020-09-04 05:12:16.797</td>\n",
       "      <td>H</td>\n",
       "      <td>55</td>\n",
       "      <td>NaN</td>\n",
       "      <td>NaN</td>\n",
       "      <td>4208838072140441</td>\n",
       "      <td>cancelled</td>\n",
       "    </tr>\n",
       "    <tr>\n",
       "      <th>2</th>\n",
       "      <td>3327488311065932</td>\n",
       "      <td>2020-09-04 05:12:16.797</td>\n",
       "      <td>H</td>\n",
       "      <td>49</td>\n",
       "      <td>NaN</td>\n",
       "      <td>NaN</td>\n",
       "      <td>8023059477777343</td>\n",
       "      <td>cancelled</td>\n",
       "    </tr>\n",
       "    <tr>\n",
       "      <th>3</th>\n",
       "      <td>4140778429694488</td>\n",
       "      <td>2020-09-04 05:12:16.797</td>\n",
       "      <td>H</td>\n",
       "      <td>71</td>\n",
       "      <td>6.573307e+15</td>\n",
       "      <td>7.090778e+15</td>\n",
       "      <td>7090777804695185</td>\n",
       "      <td>completed</td>\n",
       "    </tr>\n",
       "    <tr>\n",
       "      <th>4</th>\n",
       "      <td>4496887499213898</td>\n",
       "      <td>2020-09-04 05:12:16.797</td>\n",
       "      <td>H</td>\n",
       "      <td>69</td>\n",
       "      <td>NaN</td>\n",
       "      <td>NaN</td>\n",
       "      <td>1041621141461443</td>\n",
       "      <td>cancelled</td>\n",
       "    </tr>\n",
       "  </tbody>\n",
       "</table>\n",
       "</div>"
      ],
      "text/plain": [
       "                 id            __updatetime type  plr        winner  \\\n",
       "0  2243988808407448 2020-09-04 05:12:16.797    H   50  6.210912e+14   \n",
       "1  2156599449300926 2020-09-04 05:12:16.797    H   55           NaN   \n",
       "2  3327488311065932 2020-09-04 05:12:16.797    H   49           NaN   \n",
       "3  4140778429694488 2020-09-04 05:12:16.797    H   71  6.573307e+15   \n",
       "4  4496887499213898 2020-09-04 05:12:16.797    H   69           NaN   \n",
       "\n",
       "          loser            userid     status  \n",
       "0  3.559349e+15   621091246611789  completed  \n",
       "1           NaN  4208838072140441  cancelled  \n",
       "2           NaN  8023059477777343  cancelled  \n",
       "3  7.090778e+15  7090777804695185  completed  \n",
       "4           NaN  1041621141461443  cancelled  "
      ]
     },
     "execution_count": 20,
     "metadata": {},
     "output_type": "execute_result"
    }
   ],
   "source": [
    "df.head()"
   ]
  },
  {
   "cell_type": "code",
   "execution_count": 32,
   "metadata": {},
   "outputs": [
    {
     "name": "stderr",
     "output_type": "stream",
     "text": [
      "69494it [00:08, 8051.24it/s]\n"
     ]
    }
   ],
   "source": [
    "# k = userid, v = List[Int]\n",
    "\n",
    "lookup = {}  \n",
    "\n",
    "for _, row in tqdm(df.iterrows()):\n",
    "    if row['status'] != \"completed\" or row['type'] != 'H':\n",
    "        pass\n",
    "    else:\n",
    "        if row['userid'] not in lookup.keys():\n",
    "            if row['userid'] == row['winner']:\n",
    "                lookup[row['userid']] = [1]\n",
    "            else:\n",
    "                lookup[row['userid']] = [0]\n",
    "        else:\n",
    "            if row['userid'] == row['winner']:\n",
    "                lookup[row['userid']].append(1)\n",
    "            else:\n",
    "                lookup[row['userid']].append(0)"
   ]
  },
  {
   "cell_type": "code",
   "execution_count": 41,
   "metadata": {},
   "outputs": [],
   "source": [
    "# calculate winning percentage for each user\n",
    "winning_percentage = []\n",
    "games_played = []\n",
    "\n",
    "for v in lookup.values():\n",
    "    winning_percentage.append(np.mean(v))\n",
    "    games_played.append(len(v))"
   ]
  },
  {
   "cell_type": "code",
   "execution_count": 42,
   "metadata": {},
   "outputs": [
    {
     "data": {
      "text/plain": [
       "<matplotlib.collections.PathCollection at 0x7fba68a9a3a0>"
      ]
     },
     "execution_count": 42,
     "metadata": {},
     "output_type": "execute_result"
    },
    {
     "data": {
      "image/png": "[encoded data removed]",
      "text/plain": [
       "<Figure size 432x288 with 1 Axes>"
      ]
     },
     "metadata": {
      "needs_background": "light"
     },
     "output_type": "display_data"
    }
   ],
   "source": [
    "plt.title('Targeted Winning Rate for Long Term Retention (NBA 21)')\n",
    "plt.ylabel('Winning Percentage By User')\n",
    "plt.xlabel('Games Played By User')\n",
    "plt.scatter(games_played, winning_percentage)"
   ]
  },
  {
   "cell_type": "code",
   "execution_count": null,
   "metadata": {},
   "outputs": [],
   "source": []
  }
 ],
 "metadata": {
  "kernelspec": {
   "display_name": "Python 3",
   "language": "python",
   "name": "python3"
  },
  "language_info": {
   "codemirror_mode": {
    "name": "ipython",
    "version": 3
   },
   "file_extension": ".py",
   "mimetype": "text/x-python",
   "name": "python",
   "nbconvert_exporter": "python",
   "pygments_lexer": "ipython3",
   "version": "3.8.3"
  }
 },
 "nbformat": 4,
 "nbformat_minor": 4
}
