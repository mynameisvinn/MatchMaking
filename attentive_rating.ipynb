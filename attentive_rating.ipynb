{
 "cells": [
  {
   "cell_type": "code",
   "execution_count": 1,
   "metadata": {},
   "outputs": [],
   "source": [
    "from IPython.core.interactiveshell import InteractiveShell\n",
    "InteractiveShell.ast_node_interactivity = \"all\""
   ]
  },
  {
   "cell_type": "code",
   "execution_count": 2,
   "metadata": {},
   "outputs": [],
   "source": [
    "import torch\n",
    "device = 'cuda' if torch.cuda.is_available() else 'cpu'"
   ]
  },
  {
   "cell_type": "code",
   "execution_count": 3,
   "metadata": {},
   "outputs": [],
   "source": [
    "import numpy as np\n",
    "import pandas as pd"
   ]
  },
  {
   "cell_type": "markdown",
   "metadata": {},
   "source": [
    "## Merge and sort data by datetime"
   ]
  },
  {
   "cell_type": "code",
   "execution_count": 4,
   "metadata": {},
   "outputs": [],
   "source": [
    "def combine_data(outcomes_path, plr_path):\n",
    "    outcomes_all = pd.read_csv(outcomes_path, index_col=0)\n",
    "    outcomes_plr = pd.read_csv(plr_path, index_col=0)\n",
    "    \n",
    "    outcomes_all = outcomes_all[\n",
    "        ['id', 'winner', 'loser']\n",
    "    ].dropna().astype(np.int64).drop_duplicates().reset_index(drop=True)\n",
    "    \n",
    "    outcomes_plr = outcomes_plr[\n",
    "        outcomes_plr.contest.isin(outcomes_all.id)\n",
    "    ].reset_index(drop=True).rename(columns={'winner':'winner_plr', 'loser':'loser_plr'})\n",
    "    \n",
    "    winner_ids = []\n",
    "    loser_ids = []\n",
    "    outcomes_byid = dict(tuple(outcomes_all.groupby('id')))\n",
    "\n",
    "    for i, row in outcomes_plr.iterrows():\n",
    "        outcome_data = outcomes_byid[row['contest']].iloc[0]\n",
    "        winner_ids.append(outcome_data['winner'])\n",
    "        loser_ids.append(outcome_data['loser'])\n",
    "        \n",
    "    outcomes = outcomes_plr.copy()\n",
    "    outcomes['winner_id'] = winner_ids\n",
    "    outcomes['loser_id'] = loser_ids\n",
    "    outcomes['time'] = pd.to_datetime(outcomes_plr['time'])\n",
    "    outcomes = outcomes.sort_values(by='time', ascending=True)\n",
    "    return outcomes"
   ]
  },
  {
   "cell_type": "markdown",
   "metadata": {},
   "source": [
    "## Add player n_games to data"
   ]
  },
  {
   "cell_type": "code",
   "execution_count": 5,
   "metadata": {},
   "outputs": [],
   "source": [
    "def add_n_exp(outcomes):\n",
    "    n_exp = {}\n",
    "    winner_n_exp = []\n",
    "    loser_n_exp = []\n",
    "\n",
    "    for i,row in outcomes.iterrows():\n",
    "        winner_id, loser_id = row['winner_id'], row['loser_id']\n",
    "\n",
    "        if winner_id in n_exp:\n",
    "            n_exp[winner_id]+=1\n",
    "        else:\n",
    "            n_exp[winner_id]=1\n",
    "\n",
    "        if loser_id in n_exp:\n",
    "            n_exp[loser_id]+=1\n",
    "        else:\n",
    "            n_exp[loser_id]=1\n",
    "\n",
    "        winner_n_exp.append(n_exp[winner_id])\n",
    "        loser_n_exp.append(n_exp[loser_id])\n",
    "        \n",
    "    outcomes_exp = outcomes.copy()\n",
    "    outcomes_exp['winner_n'] = winner_n_exp\n",
    "    outcomes_exp['loser_n'] = loser_n_exp\n",
    "    return outcomes_exp[['time', 'winner_plr', 'winner_n', 'winner_id', 'loser_plr', 'loser_n', 'loser_id']]"
   ]
  },
  {
   "cell_type": "markdown",
   "metadata": {},
   "source": [
    "## Scale data to (0,1)"
   ]
  },
  {
   "cell_type": "code",
   "execution_count": 6,
   "metadata": {},
   "outputs": [],
   "source": [
    "def min_max_scaler(value, minimum, maximum, lo=0, hi=1):\n",
    "    return (value-minimum)/(maximum-minimum)*(hi-lo)+lo\n",
    "\n",
    "def scale_ratings(outcomes):\n",
    "    maximum_plr = max([outcomes['winner_plr'].max(), outcomes['loser_plr'].max()])\n",
    "    minimum_plr = min([outcomes['winner_plr'].min(), outcomes['loser_plr'].min()])\n",
    "    outcomes['winner_plr'] = outcomes['winner_plr'].apply(lambda x: min_max_scaler(x, minimum_plr, maximum_plr))\n",
    "    outcomes['loser_plr'] = outcomes['loser_plr'].apply(lambda x: min_max_scaler(x, minimum_plr, maximum_plr))\n",
    "\n",
    "    maximum_n = max([outcomes['winner_n'].max(), outcomes['loser_n'].max()])\n",
    "    minimum_n = min([outcomes['winner_n'].min(), outcomes['loser_n'].min()])\n",
    "    outcomes['winner_n'] = outcomes['winner_n'].apply(lambda x: min_max_scaler(x, minimum_n, maximum_n))\n",
    "    outcomes['loser_n'] = outcomes['loser_n'].apply(lambda x: min_max_scaler(x, minimum_n, maximum_n))\n",
    "    return outcomes.drop(columns=['time'])"
   ]
  },
  {
   "cell_type": "markdown",
   "metadata": {},
   "source": [
    "## Make features with player history"
   ]
  },
  {
   "cell_type": "code",
   "execution_count": 7,
   "metadata": {},
   "outputs": [],
   "source": [
    "import copy\n",
    "from tqdm import tqdm\n",
    "\n",
    "def unique(seq):\n",
    "    seen = set()\n",
    "    seen_add = seen.add\n",
    "    return [x for x in seq if not (x in seen or seen_add(x))]\n",
    "\n",
    "def make_features(outcomes, max_len = 20):\n",
    "    features = []\n",
    "\n",
    "    player_states = {\n",
    "        k:{\n",
    "            'plr':None, 'n':None, \n",
    "            'opp_plr':[0.]*max_len, 'opp_n':[0.]*max_len, \n",
    "            'opp_outcome':[0]*max_len, 'mask':[0]*max_len\n",
    "        }\n",
    "        for k in unique(outcomes['winner_id'].unique().tolist()+outcomes['loser_id'].unique().tolist())\n",
    "    }\n",
    "\n",
    "    for i,row in tqdm(outcomes.iterrows()):\n",
    "        player_states[row['winner_id']]['plr'] = row['winner_plr']\n",
    "        player_states[row['winner_id']]['n'] = row['winner_n']\n",
    "\n",
    "        player_states[row['loser_id']]['plr'] = row['loser_plr']\n",
    "        player_states[row['loser_id']]['n'] = row['loser_n']\n",
    "\n",
    "        features.append((copy.deepcopy(player_states[row['winner_id']]), copy.deepcopy(player_states[row['loser_id']])))\n",
    "\n",
    "        player_states[row['winner_id']]['opp_plr'].append(row['loser_plr'])\n",
    "        player_states[row['winner_id']]['opp_n'].append(row['winner_n'])\n",
    "        player_states[row['winner_id']]['opp_outcome'].append(1)\n",
    "        player_states[row['winner_id']]['mask'].append(1)\n",
    "\n",
    "        player_states[row['loser_id']]['opp_plr'].append(row['winner_plr'])\n",
    "        player_states[row['loser_id']]['opp_n'].append(row['loser_n'])\n",
    "        player_states[row['loser_id']]['opp_outcome'].append(0)\n",
    "        player_states[row['loser_id']]['mask'].append(1)\n",
    "\n",
    "        for var in ['opp_plr', 'opp_n', 'opp_outcome', 'mask']:\n",
    "            player_states[row['winner_id']][var] = player_states[row['winner_id']][var][-max_len:]\n",
    "            player_states[row['loser_id']][var] = player_states[row['loser_id']][var][-max_len:]\n",
    "    return features"
   ]
  },
  {
   "cell_type": "markdown",
   "metadata": {},
   "source": [
    "## Make features and split train/test set"
   ]
  },
  {
   "cell_type": "code",
   "execution_count": null,
   "metadata": {},
   "outputs": [],
   "source": [
    "import os\n",
    "import pickle\n",
    "\n",
    "def split_features(features):\n",
    "    n_train = int(len(features)*0.9)\n",
    "    train_features = features[:n_train]\n",
    "    test_features = features[n_train:]\n",
    "    \n",
    "    with open('datasets/train.pkl', \"wb\") as f:\n",
    "        pickle.dump(train_features, f)\n",
    "        \n",
    "    with open('datasets/test.pkl', \"wb\") as f:\n",
    "        pickle.dump(test_features, f)\n",
    "\n",
    "def load_features(data_dir='.'):\n",
    "    with open(os.path.join(data_dir, 'datasets/train.pkl'), \"rb\") as f:\n",
    "        train_features = pickle.load(f)\n",
    "        \n",
    "    with open(os.path.join(data_dir, 'datasets/test.pkl'), \"rb\") as f:\n",
    "        test_features = pickle.load(f)\n",
    "    return train_features, test_features"
   ]
  },
  {
   "cell_type": "markdown",
   "metadata": {},
   "source": [
    "## Clean Data"
   ]
  },
  {
   "cell_type": "code",
   "execution_count": 8,
   "metadata": {},
   "outputs": [],
   "source": [
    "outcomes = combine_data('datasets/outcomes_madden.csv', 'datasets/ps4-madden21.csv')\n",
    "outcomes.to_csv('datasets/outcomes_madden_sorted.csv', index=False)"
   ]
  },
  {
   "cell_type": "code",
   "execution_count": 9,
   "metadata": {},
   "outputs": [],
   "source": [
    "outcomes = add_n_exp(pd.read_csv('datasets/outcomes_madden_sorted.csv'))\n",
    "outcomes.to_csv('datasets/outcomes_n_exp.csv', index=False)"
   ]
  },
  {
   "cell_type": "markdown",
   "metadata": {},
   "source": [
    "### Max context length = 75 games"
   ]
  },
  {
   "cell_type": "code",
   "execution_count": 10,
   "metadata": {},
   "outputs": [
    {
     "name": "stderr",
     "output_type": "stream",
     "text": [
      "143467it [01:21, 1751.02it/s]\n"
     ]
    }
   ],
   "source": [
    "outcomes = pd.read_csv('datasets/outcomes_n_exp.csv') \n",
    "outcomes = scale_ratings(outcomes)\n",
    "features = make_features(outcomes, max_len=75)\n",
    "\n",
    "split_features(features)"
   ]
  },
  {
   "cell_type": "markdown",
   "metadata": {},
   "source": [
    "## Define dataset and collator"
   ]
  },
  {
   "cell_type": "code",
   "execution_count": 11,
   "metadata": {},
   "outputs": [],
   "source": [
    "import torch\n",
    "import numpy as np\n",
    "\n",
    "def one_hot(y, size):\n",
    "    y_onehot = torch.FloatTensor(y.size(0), size)\n",
    "    y_onehot.zero_()\n",
    "    y_onehot.scatter_(1, y, 1).type_as(y)\n",
    "    return y_onehot\n",
    "\n",
    "class PlayerDataset(torch.utils.data.Dataset):\n",
    "    def __init__(self, features):\n",
    "        self.features = features \n",
    "\n",
    "    def __len__(self):\n",
    "        return len(self.features)\n",
    "\n",
    "    def __getitem__(self, i):\n",
    "        if np.random.uniform(0,1)<0.5:\n",
    "            return {'p1':self.features[i][0], 'p2':self.features[i][1], 'label':[0]}\n",
    "        else:\n",
    "            return {'p1':self.features[i][1], 'p2':self.features[i][0], 'label':[1]}\n",
    "\n",
    "class PlayerDataCollator:\n",
    "    def __init__(self, device):\n",
    "        self.device = device\n",
    "        \n",
    "    def _historize(self, features):\n",
    "        opp_plrn = torch.einsum('ijk->ikj', torch.tensor([[x['opp_plr'], x['opp_n']] for x in features], dtype=torch.float))\n",
    "        opp_outcome = torch.cat([\n",
    "            one_hot(torch.tensor(x['opp_outcome']).unsqueeze(-1), 2).unsqueeze(0) \n",
    "            for x in features], dim=0)\n",
    "        return torch.cat([opp_plrn, opp_outcome], dim=-1)\n",
    "    \n",
    "    def _playerize(self, player):\n",
    "        return {\n",
    "            'plrn':torch.tensor([[[x['plr'], x['n']]] for x in player], dtype=torch.float).to(self.device), \n",
    "            'exp':self._historize(player).to(self.device), \n",
    "            'mask':torch.tensor([x['mask'] for x in player], dtype=torch.long).to(self.device)\n",
    "        }\n",
    "        \n",
    "    def __call__(self, features):\n",
    "        batch = {\n",
    "            'p1':self._playerize([x['p1'] for x in features]),\n",
    "            'p2':self._playerize([x['p2'] for x in features]),\n",
    "            'label':torch.tensor([x['label'] for x in features]).to(self.device)\n",
    "        }\n",
    "        return batch"
   ]
  },
  {
   "cell_type": "markdown",
   "metadata": {},
   "source": [
    "## Define torch model"
   ]
  },
  {
   "cell_type": "code",
   "execution_count": 12,
   "metadata": {},
   "outputs": [],
   "source": [
    "import torch\n",
    "import torch.nn as nn\n",
    "import torch.nn.functional as F\n",
    "from torch.autograd import Variable\n",
    "\n",
    "class PositionalEncoding(nn.Module):\n",
    "    \"Implement the PE function.\"\n",
    "    def __init__(self, d_model, dropout, max_len=50):\n",
    "        super(PositionalEncoding, self).__init__()\n",
    "        self.dropout = nn.Dropout(p=dropout)\n",
    "        \n",
    "        # Compute the positional encodings once in log space.\n",
    "        pe = torch.zeros(max_len, d_model)\n",
    "        position = torch.arange(0, max_len).unsqueeze(1)\n",
    "        div_term = torch.exp(torch.arange(0, d_model, 2) *\n",
    "                             -(np.log(10000.0) / d_model))\n",
    "        pe[:, 0::2] = torch.sin(position * div_term)\n",
    "        pe[:, 1::2] = torch.cos(position * div_term)\n",
    "        pe = pe.unsqueeze(0)\n",
    "        self.register_buffer('pe', pe)\n",
    "        \n",
    "    def forward(self, x):\n",
    "        x = x + Variable(self.pe[:, :x.size(1)], \n",
    "                         requires_grad=False)\n",
    "        return self.dropout(x)\n",
    "\n",
    "class NonLinear(nn.Module):\n",
    "    def __init__(self, d_in, d_hid, d_out, dropout=0.):\n",
    "        super(NonLinear, self).__init__()\n",
    "        self.w_1 = nn.Linear(d_in, d_hid)\n",
    "        self.w_2 = nn.Linear(d_hid, d_out)\n",
    "        self.dropout = nn.Dropout(dropout)\n",
    "        \n",
    "    def forward(self, x, x_mask=None):\n",
    "        return self.w_2(self.dropout(F.relu(self.w_1(x))))\n",
    "    \n",
    "class AttentionShift(nn.Module):\n",
    "    def __init__(self, d_query, d_key, d_att):\n",
    "        super(AttentionShift, self).__init__()\n",
    "        self.position = PositionalEncoding(d_key, dropout=0.0)\n",
    "        \n",
    "        self.p = nn.Parameter(torch.FloatTensor(d_query, d_key))\n",
    "        self.q = nn.Parameter(torch.FloatTensor(d_key, d_att))\n",
    "        self.k = nn.Parameter(torch.FloatTensor(d_key, d_att))\n",
    "        self.v = nn.Parameter(torch.FloatTensor(d_key, d_key))\n",
    "        \n",
    "        self.ff = NonLinear(d_key, 2*d_key, d_key)\n",
    "        self.norm = nn.LayerNorm(d_key)\n",
    "        self.attn = None\n",
    "        self.mask = None\n",
    "        \n",
    "        self.init_normed()\n",
    "    \n",
    "    def init_normed(self):\n",
    "        nn.init.xavier_uniform_(self.p)\n",
    "        nn.init.xavier_uniform_(self.q)\n",
    "        nn.init.xavier_uniform_(self.k)\n",
    "        nn.init.xavier_uniform_(self.v)\n",
    "        \n",
    "    def forward(self, plrn, exp, mask):\n",
    "        p = self.position(torch.einsum(\"nsq,qa->nsa\", plrn, self.p))\n",
    "        q = torch.einsum(\"nsq,qa->nsa\", p, self.q)\n",
    "        k = torch.einsum(\"ntk,ka->nta\", exp, self.k)\n",
    "        v = torch.einsum(\"ntk,kq->ntq\", exp, self.v)\n",
    "        \n",
    "        attn_score = torch.einsum(\"nsa,nta->nst\", q, k)\n",
    "        \n",
    "        if mask is not None:\n",
    "            attn_score += 1e15*(mask-1).unsqueeze(1)\n",
    "            self.mask = (mask-1).unsqueeze(1)\n",
    "        \n",
    "        attn_prob = F.softmax(attn_score, dim=-1)\n",
    "        self.attn = attn_prob\n",
    "        \n",
    "        out = torch.einsum(\"nst,ntq->nsq\", attn_prob, v)\n",
    "        return self.ff(self.norm(p+out))\n",
    "    \n",
    "class PlayerClassifier(nn.Module):\n",
    "    def __init__(self, d_query, d_key, d_att, num_labels=2):\n",
    "        super(PlayerClassifier, self).__init__()\n",
    "        self.embed = AttentionShift(d_query, d_key, d_att)\n",
    "        self.proj = nn.Linear(3*d_key, num_labels)\n",
    "        self.num_labels = num_labels\n",
    "        \n",
    "    def forward(self, x):\n",
    "        p1 = self.embed(**x['p1']).squeeze()\n",
    "        p2 = self.embed(**x['p2']).squeeze()\n",
    "        \n",
    "        logits = self.proj(torch.cat([p1, p2, torch.abs(p1-p2)], dim=-1))\n",
    "        labels = x['label']\n",
    "        \n",
    "        loss = None\n",
    "        if labels is not None:\n",
    "            loss_fct = nn.CrossEntropyLoss()\n",
    "            loss = loss_fct(logits.view(-1, self.num_labels), labels.view(-1))\n",
    "        return logits, labels, loss"
   ]
  },
  {
   "cell_type": "markdown",
   "metadata": {},
   "source": [
    "## Train Model"
   ]
  },
  {
   "cell_type": "code",
   "execution_count": 13,
   "metadata": {},
   "outputs": [],
   "source": [
    "model = PlayerClassifier(d_query=2, d_key=4, d_att=4)\n",
    "model.to(device)\n",
    "# model = nn.DataParallel(mod)\n",
    "\n",
    "train_features, test_features = load_features()\n",
    "\n",
    "trainset = PlayerDataset(train_features)\n",
    "trainloader = torch.utils.data.DataLoader(\n",
    "    trainset, \n",
    "    batch_size=100, \n",
    "    shuffle=False, \n",
    "    collate_fn=PlayerDataCollator(device=device)\n",
    ")\n",
    "\n",
    "testset = PlayerDataset(test_features)\n",
    "testloader = torch.utils.data.DataLoader(\n",
    "    testset, \n",
    "    batch_size=100, \n",
    "    shuffle=False, \n",
    "    collate_fn=PlayerDataCollator(device=device)\n",
    ")\n",
    "pass;"
   ]
  },
  {
   "cell_type": "code",
   "execution_count": 14,
   "metadata": {},
   "outputs": [],
   "source": [
    "print_every = 5\n",
    "epochs = 50\n",
    "optimizer = torch.optim.Adam(model.parameters(), lr=0.001, betas=(0.9, 0.98), eps=1e-9)"
   ]
  },
  {
   "cell_type": "code",
   "execution_count": 16,
   "metadata": {},
   "outputs": [],
   "source": [
    "import datetime\n",
    "import numpy as np\n",
    "import pandas as pd\n",
    "from sklearn.metrics import accuracy_score"
   ]
  },
  {
   "cell_type": "code",
   "execution_count": 17,
   "metadata": {},
   "outputs": [],
   "source": [
    "def get_eval_df(model, loader):\n",
    "    model.eval();\n",
    "    model_preds, batch_labels = [], []\n",
    "    plr1s, plr2s = [], []\n",
    "    n1s, n2s = [], []\n",
    "    losses = []\n",
    "\n",
    "    for inputs in loader:\n",
    "        plr1s.extend(inputs['p1']['plrn'][:,0,0].tolist())\n",
    "        plr2s.extend(inputs['p2']['plrn'][:,0,0].tolist())\n",
    "        n1s.extend(inputs['p1']['plrn'][:,0,1].tolist())\n",
    "        n2s.extend(inputs['p2']['plrn'][:,0,1].tolist())\n",
    "        \n",
    "        logits, labels, loss = model(inputs)\n",
    "        model_preds.extend(logits.cpu().detach().max(dim=-1).indices.tolist())\n",
    "        batch_labels.extend(labels.cpu().detach().squeeze().tolist())\n",
    "        losses.append(loss.cpu().detach().item())\n",
    "\n",
    "    mean_loss = np.mean(losses)\n",
    "    \n",
    "    eval_df = pd.DataFrame({\n",
    "        'plr1':plr1s,\n",
    "        'n1':n1s,\n",
    "        'plr2':plr2s,\n",
    "        'n2':n2s,\n",
    "        'label':batch_labels,\n",
    "        'model_pred':model_preds\n",
    "    })\n",
    "    eval_df['plr_pred'] = ((eval_df['plr1']-eval_df['plr2'])<0)*1\n",
    "\n",
    "    return eval_df, mean_loss"
   ]
  },
  {
   "cell_type": "code",
   "execution_count": 18,
   "metadata": {},
   "outputs": [
    {
     "name": "stdout",
     "output_type": "stream",
     "text": [
      "Start Time: 10:29:50\n",
      "Epoch 000 || Train Loss: 0.663 || Loss: 0.642 || Acc: 0.628 || PLR Acc: 0.599\n",
      "Epoch 005 || Train Loss: 0.644 || Loss: 0.632 || Acc: 0.643 || PLR Acc: 0.598\n",
      "Epoch 010 || Train Loss: 0.642 || Loss: 0.629 || Acc: 0.645 || PLR Acc: 0.599\n",
      "Epoch 015 || Train Loss: 0.641 || Loss: 0.628 || Acc: 0.647 || PLR Acc: 0.598\n",
      "Epoch 020 || Train Loss: 0.640 || Loss: 0.628 || Acc: 0.646 || PLR Acc: 0.597\n",
      "Epoch 025 || Train Loss: 0.640 || Loss: 0.627 || Acc: 0.646 || PLR Acc: 0.597\n",
      "Epoch 030 || Train Loss: 0.640 || Loss: 0.627 || Acc: 0.646 || PLR Acc: 0.598\n",
      "Epoch 035 || Train Loss: 0.640 || Loss: 0.627 || Acc: 0.645 || PLR Acc: 0.598\n",
      "Epoch 040 || Train Loss: 0.640 || Loss: 0.627 || Acc: 0.645 || PLR Acc: 0.599\n",
      "Epoch 045 || Train Loss: 0.640 || Loss: 0.627 || Acc: 0.645 || PLR Acc: 0.599\n",
      "End Time: 10:40:35\n",
      "Completed in 644.754964 seconds\n"
     ]
    }
   ],
   "source": [
    "time_start = datetime.datetime.now()\n",
    "print('Start Time: %s'%time_start.strftime('%H:%M:%S'))\n",
    "\n",
    "for epoch in range(0, epochs):\n",
    "    epoch_start = datetime.datetime.now()\n",
    "    model.train();\n",
    "    train_loss = 0.0\n",
    "    train_nbatches = 0\n",
    "    \n",
    "    for inputs in trainloader:\n",
    "        logits, labels, loss = model(inputs)\n",
    "        loss.backward()\n",
    "        optimizer.step()\n",
    "        optimizer.zero_grad()\n",
    "        \n",
    "        train_loss += float(loss)\n",
    "        train_nbatches += 1\n",
    "    train_loss/=train_nbatches\n",
    "    \n",
    "    model.eval();\n",
    "    with torch.no_grad():\n",
    "        df, test_loss = get_eval_df(model, testloader)\n",
    "\n",
    "        model_acc = accuracy_score(df.label, df.model_pred)\n",
    "        plr_acc = accuracy_score(df.label, df.plr_pred)\n",
    "\n",
    "        if epoch%print_every == 0:\n",
    "            print('Epoch {} || Train Loss: {:.3f} || Loss: {:.3f} || Acc: {:.3f} || PLR Acc: {:.3f}'.format(\n",
    "                str(epoch).zfill(3), train_loss, test_loss, model_acc, plr_acc)\n",
    "                 )\n",
    "time_finish = datetime.datetime.now()\n",
    "print('End Time: %s'%time_finish.strftime('%H:%M:%S'))\n",
    "print('Completed in %s seconds'%(time_finish-time_start).total_seconds())\n",
    "pass;"
   ]
  },
  {
   "cell_type": "markdown",
   "metadata": {},
   "source": [
    "### Not sure why PLR accuracy changes by 0.001-0.002 between epochs"
   ]
  },
  {
   "cell_type": "code",
   "execution_count": 19,
   "metadata": {},
   "outputs": [
    {
     "name": "stderr",
     "output_type": "stream",
     "text": [
      "/home/mpark/anaconda3/envs/py36/lib/python3.6/site-packages/numpy/lib/function_base.py:380: RuntimeWarning: Mean of empty slice.\n",
      "  avg = a.mean(axis)\n",
      "/home/mpark/anaconda3/envs/py36/lib/python3.6/site-packages/numpy/core/_methods.py:170: RuntimeWarning: invalid value encountered in double_scalars\n",
      "  ret = ret.dtype.type(ret / rcount)\n"
     ]
    }
   ],
   "source": [
    "import matplotlib.pyplot as plt\n",
    "\n",
    "df, loss = get_eval_df(model, testloader)\n",
    "df['n_min'] = df[['n1','n2']].min(axis=1)\n",
    "\n",
    "n_min = []\n",
    "model_acc = []\n",
    "plr_acc = []\n",
    "bin_err = []\n",
    "\n",
    "for bin_start in np.arange(0, 1, 0.1):\n",
    "    bin_end = bin_start+0.1\n",
    "    \n",
    "    df_bin = df[(df['n_min']>=bin_start)&(df['n_min']<bin_end)]\n",
    "    \n",
    "    n_min.append(bin_start)\n",
    "    model_acc.append(accuracy_score(df_bin.label, df_bin.model_pred))\n",
    "    plr_acc.append(accuracy_score(df_bin.label, df_bin.plr_pred))\n",
    "    bin_err.append(1/(len(df_bin)+1e-15))"
   ]
  },
  {
   "cell_type": "code",
   "execution_count": 20,
   "metadata": {},
   "outputs": [
    {
     "data": {
      "text/plain": [
       "[<matplotlib.lines.Line2D at 0x7f1c8f2cc240>]"
      ]
     },
     "execution_count": 20,
     "metadata": {},
     "output_type": "execute_result"
    },
    {
     "data": {
      "text/plain": [
       "[<matplotlib.lines.Line2D at 0x7f1cf32c59b0>]"
      ]
     },
     "execution_count": 20,
     "metadata": {},
     "output_type": "execute_result"
    },
    {
     "data": {
      "image/png": "[encoded data removed]",
      "text/plain": [
       "<Figure size 432x288 with 1 Axes>"
      ]
     },
     "metadata": {
      "needs_background": "light"
     },
     "output_type": "display_data"
    }
   ],
   "source": [
    "plt.plot(n_min, model_acc)\n",
    "plt.plot(n_min, plr_acc)"
   ]
  },
  {
   "cell_type": "markdown",
   "metadata": {},
   "source": [
    "### Not sure why PLR beats attention when many games have been observed.. but the number of such games is small so attention beats PLR overall"
   ]
  },
  {
   "cell_type": "code",
   "execution_count": 21,
   "metadata": {},
   "outputs": [
    {
     "data": {
      "text/plain": [
       "<ErrorbarContainer object of 3 artists>"
      ]
     },
     "execution_count": 21,
     "metadata": {},
     "output_type": "execute_result"
    },
    {
     "data": {
      "text/plain": [
       "<ErrorbarContainer object of 3 artists>"
      ]
     },
     "execution_count": 21,
     "metadata": {},
     "output_type": "execute_result"
    },
    {
     "data": {
      "text/plain": [
       "Text(0, 0.5, 'Accuracy')"
      ]
     },
     "execution_count": 21,
     "metadata": {},
     "output_type": "execute_result"
    },
    {
     "data": {
      "text/plain": [
       "Text(0.5, 0, 'Experience level of less expd player')"
      ]
     },
     "execution_count": 21,
     "metadata": {},
     "output_type": "execute_result"
    },
    {
     "data": {
      "image/png": "[encoded data removed]",
      "text/plain": [
       "<Figure size 432x288 with 1 Axes>"
      ]
     },
     "metadata": {
      "needs_background": "light"
     },
     "output_type": "display_data"
    }
   ],
   "source": [
    "plt.errorbar(n_min, model_acc, yerr=bin_err, fmt='-o')\n",
    "plt.errorbar(n_min, plr_acc, yerr=bin_err, fmt='-o')\n",
    "plt.ylabel('Accuracy', fontsize=20)\n",
    "plt.xlabel('Experience level of less expd player', fontsize=20)"
   ]
  },
  {
   "cell_type": "code",
   "execution_count": null,
   "metadata": {},
   "outputs": [],
   "source": [
    "blah"
   ]
  },
  {
   "cell_type": "markdown",
   "metadata": {},
   "source": [
    "## Scratch (heat plot)"
   ]
  },
  {
   "cell_type": "code",
   "execution_count": null,
   "metadata": {},
   "outputs": [],
   "source": [
    "from collections import Counter\n",
    "import seaborn as sns\n",
    "\n",
    "def count_tp_fn(outcomes):\n",
    "    win_preds = (outcomes.winner_plr-outcomes.loser_plr).apply(lambda x: int(x/np.abs(x)) if x!=0 else 0)\n",
    "    tp = Counter(win_preds)[1]\n",
    "    fn = Counter(win_preds)[-1]\n",
    "    return tp, fn\n",
    "    \n",
    "def count_tn_fp(outcomes):\n",
    "    lose_preds = (outcomes.loser_plr-outcomes.winner_plr).apply(lambda x: int(x/np.abs(x)) if x!=0 else 0)\n",
    "    tn = Counter(win_preds)[1]\n",
    "    fp = Counter(win_preds)[-1]\n",
    "    return tn, fp\n",
    "\n",
    "def compute_acc(outcomes):\n",
    "    tp, fn = count_tp_fn(outcomes)\n",
    "    return tp/(tp+fn+1e-15)\n",
    "\n",
    "def get_accuracy_matrix(outcomes):\n",
    "    binned = outcomes.groupby(by=['winner_n', 'loser_n']).apply(lambda x: compute_acc(x))\n",
    "    \n",
    "    acc_mat = np.zeros(\n",
    "        (outcomes.winner_n.max(), outcomes.loser_n.max())\n",
    "    )\n",
    "\n",
    "    for x in binned.items():\n",
    "        acc_mat[x[0][0]-1, x[0][1]-1] = x[1]\n",
    "    return acc_mat"
   ]
  },
  {
   "cell_type": "code",
   "execution_count": null,
   "metadata": {},
   "outputs": [],
   "source": [
    "sns.heatmap(get_accuracy_matrix(outcomes)[:30,:30])"
   ]
  }
 ],
 "metadata": {
  "kernelspec": {
   "display_name": "py36",
   "language": "python",
   "name": "py36"
  },
  "language_info": {
   "codemirror_mode": {
    "name": "ipython",
    "version": 3
   },
   "file_extension": ".py",
   "mimetype": "text/x-python",
   "name": "python",
   "nbconvert_exporter": "python",
   "pygments_lexer": "ipython3",
   "version": "3.6.12"
  }
 },
 "nbformat": 4,
 "nbformat_minor": 4
}
